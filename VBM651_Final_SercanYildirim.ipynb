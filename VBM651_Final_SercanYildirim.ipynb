{
  "cells": [
    {
      "cell_type": "markdown",
      "source": [
        "# **VBM651 VERİ DÜZENLEME YÖNTEMLERİ DERSİ FİNAL PROJESI**\n",
        "Hzr. Sercan YILDIRIM\n",
        "\n",
        "Numara N21239069"
      ],
      "metadata": {
        "id": "DjQNGPTGYWra"
      }
    },
    {
      "cell_type": "code",
      "execution_count": 1,
      "metadata": {
        "id": "-q1dT5yrf48X"
      },
      "outputs": [],
      "source": [
        "import pandas as pd\n",
        "import numpy as np\n",
        "import seaborn as sns\n",
        "import matplotlib.pyplot as plt\n",
        "import string\n",
        "import warnings\n",
        "warnings.filterwarnings(\"ignore\")"
      ]
    },
    {
      "cell_type": "markdown",
      "metadata": {
        "id": "XpQ6dBtyf48d"
      },
      "source": [
        "# **Cevap 1**  Veri içeriğini csv’den okuyun ve bir pandas dataframe içinde saklayın."
      ]
    },
    {
      "cell_type": "code",
      "execution_count": 2,
      "metadata": {
        "colab": {
          "base_uri": "https://localhost:8080/",
          "height": 933
        },
        "id": "nes2t6ajf48g",
        "outputId": "548f79ed-fbf2-4e4e-eec8-061ba9a54fc3"
      },
      "outputs": [
        {
          "output_type": "execute_result",
          "data": {
            "text/plain": [
              "    Book Id                                              Title  \\\n",
              "0  13278990                                The Housing Monster   \n",
              "1      7805                                          Pale Fire   \n",
              "2  34220725                                   Never Use Futura   \n",
              "3  34913288  The Three Pillar Model for Business Decisions:...   \n",
              "4  11275062  Nixonland: The Rise of a President and the Fra...   \n",
              "5  27162486            The Banjo: America's African Instrument   \n",
              "6   8219235  Grounding for the Metaphysics of Morals/On a S...   \n",
              "7   1407132                                           Hinduism   \n",
              "8  29548767                             Time Travel: A History   \n",
              "9  31416132  The Complacent Class: The Self-Defeating Quest...   \n",
              "\n",
              "             Author              Author l-f Additional Authors        ISBN  \\\n",
              "0        prole.info  prole.info, prole.info                NaN  160486530X   \n",
              "1  Vladimir Nabokov       Nabokov, Vladimir                NaN   141185260   \n",
              "2       Doug Thomas            Thomas, Doug       Ellen Lupton  1616895721   \n",
              "3     George Siedel          Siedel, George                NaN         NaN   \n",
              "4    Rick Perlstein         Perlstein, Rick                NaN  1451606265   \n",
              "5    Laurent Dubois         Dubois, Laurent                NaN   674047842   \n",
              "6     Immanuel Kant          Kant, Immanuel                NaN  1452841098   \n",
              "7       Louis Renou            Renou, Louis                NaN   671478710   \n",
              "8      James Gleick           Gleick, James                NaN         NaN   \n",
              "9       Tyler Cowen            Cowen, Tyler                NaN         NaN   \n",
              "\n",
              "         ISBN13  My Rating  Average Rating  \\\n",
              "0  9.780000e+12          0            3.77   \n",
              "1  9.780000e+12          0            4.19   \n",
              "2  9.780000e+12          4            4.29   \n",
              "3           NaN          4            3.00   \n",
              "4  9.780000e+12          5            4.12   \n",
              "5  9.780000e+12          5            4.39   \n",
              "6  9.780000e+12          5            3.80   \n",
              "7  9.780000e+12          2            3.09   \n",
              "8           NaN          2            3.58   \n",
              "9           NaN          5            3.64   \n",
              "\n",
              "                                           Publisher  ... Private Notes  \\\n",
              "0                                           PM Press  ...           NaN   \n",
              "1                                  Penguin Books Ltd  ...           NaN   \n",
              "2                      Princeton Architectural Press  ...           NaN   \n",
              "3                            Van Rye Publishing, LLC  ...           NaN   \n",
              "4                                           Scribner  ...           NaN   \n",
              "5  Belknap Press: An Imprint of Harvard Universit...  ...           NaN   \n",
              "6                                        Createspace  ...           NaN   \n",
              "7                                       Pocket Books  ...           NaN   \n",
              "8                                           Pantheon  ...           NaN   \n",
              "9                                 St. Martin's Press  ...           NaN   \n",
              "\n",
              "   Read Count  Recommended For  Recommended By Owned Copies  \\\n",
              "0           1              NaN             NaN            0   \n",
              "1           0              NaN             NaN            0   \n",
              "2           1              NaN             NaN            0   \n",
              "3           1              NaN             NaN            0   \n",
              "4           1              NaN             NaN            0   \n",
              "5           1              NaN             NaN            0   \n",
              "6           1              NaN             NaN            0   \n",
              "7           1              NaN             NaN            0   \n",
              "8           1              NaN             NaN            0   \n",
              "9           1              NaN             NaN            0   \n",
              "\n",
              "  Original Purchase Date Original Purchase Location Condition  \\\n",
              "0                    NaN                        NaN       NaN   \n",
              "1                    NaN                        NaN       NaN   \n",
              "2                    NaN                        NaN       NaN   \n",
              "3                    NaN                        NaN       NaN   \n",
              "4                    NaN                        NaN       NaN   \n",
              "5                    NaN                        NaN       NaN   \n",
              "6                    NaN                        NaN       NaN   \n",
              "7                    NaN                        NaN       NaN   \n",
              "8                    NaN                        NaN       NaN   \n",
              "9                    NaN                        NaN       NaN   \n",
              "\n",
              "  Condition Description BCID  \n",
              "0                   NaN  NaN  \n",
              "1                   NaN  NaN  \n",
              "2                   NaN  NaN  \n",
              "3                   NaN  NaN  \n",
              "4                   NaN  NaN  \n",
              "5                   NaN  NaN  \n",
              "6                   NaN  NaN  \n",
              "7                   NaN  NaN  \n",
              "8                   NaN  NaN  \n",
              "9                   NaN  NaN  \n",
              "\n",
              "[10 rows x 31 columns]"
            ],
            "text/html": [
              "\n",
              "  <div id=\"df-41328ad0-970d-4518-a4cb-d3d07577c166\" class=\"colab-df-container\">\n",
              "    <div>\n",
              "<style scoped>\n",
              "    .dataframe tbody tr th:only-of-type {\n",
              "        vertical-align: middle;\n",
              "    }\n",
              "\n",
              "    .dataframe tbody tr th {\n",
              "        vertical-align: top;\n",
              "    }\n",
              "\n",
              "    .dataframe thead th {\n",
              "        text-align: right;\n",
              "    }\n",
              "</style>\n",
              "<table border=\"1\" class=\"dataframe\">\n",
              "  <thead>\n",
              "    <tr style=\"text-align: right;\">\n",
              "      <th></th>\n",
              "      <th>Book Id</th>\n",
              "      <th>Title</th>\n",
              "      <th>Author</th>\n",
              "      <th>Author l-f</th>\n",
              "      <th>Additional Authors</th>\n",
              "      <th>ISBN</th>\n",
              "      <th>ISBN13</th>\n",
              "      <th>My Rating</th>\n",
              "      <th>Average Rating</th>\n",
              "      <th>Publisher</th>\n",
              "      <th>...</th>\n",
              "      <th>Private Notes</th>\n",
              "      <th>Read Count</th>\n",
              "      <th>Recommended For</th>\n",
              "      <th>Recommended By</th>\n",
              "      <th>Owned Copies</th>\n",
              "      <th>Original Purchase Date</th>\n",
              "      <th>Original Purchase Location</th>\n",
              "      <th>Condition</th>\n",
              "      <th>Condition Description</th>\n",
              "      <th>BCID</th>\n",
              "    </tr>\n",
              "  </thead>\n",
              "  <tbody>\n",
              "    <tr>\n",
              "      <th>0</th>\n",
              "      <td>13278990</td>\n",
              "      <td>The Housing Monster</td>\n",
              "      <td>prole.info</td>\n",
              "      <td>prole.info, prole.info</td>\n",
              "      <td>NaN</td>\n",
              "      <td>160486530X</td>\n",
              "      <td>9.780000e+12</td>\n",
              "      <td>0</td>\n",
              "      <td>3.77</td>\n",
              "      <td>PM Press</td>\n",
              "      <td>...</td>\n",
              "      <td>NaN</td>\n",
              "      <td>1</td>\n",
              "      <td>NaN</td>\n",
              "      <td>NaN</td>\n",
              "      <td>0</td>\n",
              "      <td>NaN</td>\n",
              "      <td>NaN</td>\n",
              "      <td>NaN</td>\n",
              "      <td>NaN</td>\n",
              "      <td>NaN</td>\n",
              "    </tr>\n",
              "    <tr>\n",
              "      <th>1</th>\n",
              "      <td>7805</td>\n",
              "      <td>Pale Fire</td>\n",
              "      <td>Vladimir Nabokov</td>\n",
              "      <td>Nabokov, Vladimir</td>\n",
              "      <td>NaN</td>\n",
              "      <td>141185260</td>\n",
              "      <td>9.780000e+12</td>\n",
              "      <td>0</td>\n",
              "      <td>4.19</td>\n",
              "      <td>Penguin Books Ltd</td>\n",
              "      <td>...</td>\n",
              "      <td>NaN</td>\n",
              "      <td>0</td>\n",
              "      <td>NaN</td>\n",
              "      <td>NaN</td>\n",
              "      <td>0</td>\n",
              "      <td>NaN</td>\n",
              "      <td>NaN</td>\n",
              "      <td>NaN</td>\n",
              "      <td>NaN</td>\n",
              "      <td>NaN</td>\n",
              "    </tr>\n",
              "    <tr>\n",
              "      <th>2</th>\n",
              "      <td>34220725</td>\n",
              "      <td>Never Use Futura</td>\n",
              "      <td>Doug Thomas</td>\n",
              "      <td>Thomas, Doug</td>\n",
              "      <td>Ellen Lupton</td>\n",
              "      <td>1616895721</td>\n",
              "      <td>9.780000e+12</td>\n",
              "      <td>4</td>\n",
              "      <td>4.29</td>\n",
              "      <td>Princeton Architectural Press</td>\n",
              "      <td>...</td>\n",
              "      <td>NaN</td>\n",
              "      <td>1</td>\n",
              "      <td>NaN</td>\n",
              "      <td>NaN</td>\n",
              "      <td>0</td>\n",
              "      <td>NaN</td>\n",
              "      <td>NaN</td>\n",
              "      <td>NaN</td>\n",
              "      <td>NaN</td>\n",
              "      <td>NaN</td>\n",
              "    </tr>\n",
              "    <tr>\n",
              "      <th>3</th>\n",
              "      <td>34913288</td>\n",
              "      <td>The Three Pillar Model for Business Decisions:...</td>\n",
              "      <td>George Siedel</td>\n",
              "      <td>Siedel, George</td>\n",
              "      <td>NaN</td>\n",
              "      <td>NaN</td>\n",
              "      <td>NaN</td>\n",
              "      <td>4</td>\n",
              "      <td>3.00</td>\n",
              "      <td>Van Rye Publishing, LLC</td>\n",
              "      <td>...</td>\n",
              "      <td>NaN</td>\n",
              "      <td>1</td>\n",
              "      <td>NaN</td>\n",
              "      <td>NaN</td>\n",
              "      <td>0</td>\n",
              "      <td>NaN</td>\n",
              "      <td>NaN</td>\n",
              "      <td>NaN</td>\n",
              "      <td>NaN</td>\n",
              "      <td>NaN</td>\n",
              "    </tr>\n",
              "    <tr>\n",
              "      <th>4</th>\n",
              "      <td>11275062</td>\n",
              "      <td>Nixonland: The Rise of a President and the Fra...</td>\n",
              "      <td>Rick Perlstein</td>\n",
              "      <td>Perlstein, Rick</td>\n",
              "      <td>NaN</td>\n",
              "      <td>1451606265</td>\n",
              "      <td>9.780000e+12</td>\n",
              "      <td>5</td>\n",
              "      <td>4.12</td>\n",
              "      <td>Scribner</td>\n",
              "      <td>...</td>\n",
              "      <td>NaN</td>\n",
              "      <td>1</td>\n",
              "      <td>NaN</td>\n",
              "      <td>NaN</td>\n",
              "      <td>0</td>\n",
              "      <td>NaN</td>\n",
              "      <td>NaN</td>\n",
              "      <td>NaN</td>\n",
              "      <td>NaN</td>\n",
              "      <td>NaN</td>\n",
              "    </tr>\n",
              "    <tr>\n",
              "      <th>5</th>\n",
              "      <td>27162486</td>\n",
              "      <td>The Banjo: America's African Instrument</td>\n",
              "      <td>Laurent Dubois</td>\n",
              "      <td>Dubois, Laurent</td>\n",
              "      <td>NaN</td>\n",
              "      <td>674047842</td>\n",
              "      <td>9.780000e+12</td>\n",
              "      <td>5</td>\n",
              "      <td>4.39</td>\n",
              "      <td>Belknap Press: An Imprint of Harvard Universit...</td>\n",
              "      <td>...</td>\n",
              "      <td>NaN</td>\n",
              "      <td>1</td>\n",
              "      <td>NaN</td>\n",
              "      <td>NaN</td>\n",
              "      <td>0</td>\n",
              "      <td>NaN</td>\n",
              "      <td>NaN</td>\n",
              "      <td>NaN</td>\n",
              "      <td>NaN</td>\n",
              "      <td>NaN</td>\n",
              "    </tr>\n",
              "    <tr>\n",
              "      <th>6</th>\n",
              "      <td>8219235</td>\n",
              "      <td>Grounding for the Metaphysics of Morals/On a S...</td>\n",
              "      <td>Immanuel Kant</td>\n",
              "      <td>Kant, Immanuel</td>\n",
              "      <td>NaN</td>\n",
              "      <td>1452841098</td>\n",
              "      <td>9.780000e+12</td>\n",
              "      <td>5</td>\n",
              "      <td>3.80</td>\n",
              "      <td>Createspace</td>\n",
              "      <td>...</td>\n",
              "      <td>NaN</td>\n",
              "      <td>1</td>\n",
              "      <td>NaN</td>\n",
              "      <td>NaN</td>\n",
              "      <td>0</td>\n",
              "      <td>NaN</td>\n",
              "      <td>NaN</td>\n",
              "      <td>NaN</td>\n",
              "      <td>NaN</td>\n",
              "      <td>NaN</td>\n",
              "    </tr>\n",
              "    <tr>\n",
              "      <th>7</th>\n",
              "      <td>1407132</td>\n",
              "      <td>Hinduism</td>\n",
              "      <td>Louis Renou</td>\n",
              "      <td>Renou, Louis</td>\n",
              "      <td>NaN</td>\n",
              "      <td>671478710</td>\n",
              "      <td>9.780000e+12</td>\n",
              "      <td>2</td>\n",
              "      <td>3.09</td>\n",
              "      <td>Pocket Books</td>\n",
              "      <td>...</td>\n",
              "      <td>NaN</td>\n",
              "      <td>1</td>\n",
              "      <td>NaN</td>\n",
              "      <td>NaN</td>\n",
              "      <td>0</td>\n",
              "      <td>NaN</td>\n",
              "      <td>NaN</td>\n",
              "      <td>NaN</td>\n",
              "      <td>NaN</td>\n",
              "      <td>NaN</td>\n",
              "    </tr>\n",
              "    <tr>\n",
              "      <th>8</th>\n",
              "      <td>29548767</td>\n",
              "      <td>Time Travel: A History</td>\n",
              "      <td>James Gleick</td>\n",
              "      <td>Gleick, James</td>\n",
              "      <td>NaN</td>\n",
              "      <td>NaN</td>\n",
              "      <td>NaN</td>\n",
              "      <td>2</td>\n",
              "      <td>3.58</td>\n",
              "      <td>Pantheon</td>\n",
              "      <td>...</td>\n",
              "      <td>NaN</td>\n",
              "      <td>1</td>\n",
              "      <td>NaN</td>\n",
              "      <td>NaN</td>\n",
              "      <td>0</td>\n",
              "      <td>NaN</td>\n",
              "      <td>NaN</td>\n",
              "      <td>NaN</td>\n",
              "      <td>NaN</td>\n",
              "      <td>NaN</td>\n",
              "    </tr>\n",
              "    <tr>\n",
              "      <th>9</th>\n",
              "      <td>31416132</td>\n",
              "      <td>The Complacent Class: The Self-Defeating Quest...</td>\n",
              "      <td>Tyler Cowen</td>\n",
              "      <td>Cowen, Tyler</td>\n",
              "      <td>NaN</td>\n",
              "      <td>NaN</td>\n",
              "      <td>NaN</td>\n",
              "      <td>5</td>\n",
              "      <td>3.64</td>\n",
              "      <td>St. Martin's Press</td>\n",
              "      <td>...</td>\n",
              "      <td>NaN</td>\n",
              "      <td>1</td>\n",
              "      <td>NaN</td>\n",
              "      <td>NaN</td>\n",
              "      <td>0</td>\n",
              "      <td>NaN</td>\n",
              "      <td>NaN</td>\n",
              "      <td>NaN</td>\n",
              "      <td>NaN</td>\n",
              "      <td>NaN</td>\n",
              "    </tr>\n",
              "  </tbody>\n",
              "</table>\n",
              "<p>10 rows × 31 columns</p>\n",
              "</div>\n",
              "    <div class=\"colab-df-buttons\">\n",
              "\n",
              "  <div class=\"colab-df-container\">\n",
              "    <button class=\"colab-df-convert\" onclick=\"convertToInteractive('df-41328ad0-970d-4518-a4cb-d3d07577c166')\"\n",
              "            title=\"Convert this dataframe to an interactive table.\"\n",
              "            style=\"display:none;\">\n",
              "\n",
              "  <svg xmlns=\"http://www.w3.org/2000/svg\" height=\"24px\" viewBox=\"0 -960 960 960\">\n",
              "    <path d=\"M120-120v-720h720v720H120Zm60-500h600v-160H180v160Zm220 220h160v-160H400v160Zm0 220h160v-160H400v160ZM180-400h160v-160H180v160Zm440 0h160v-160H620v160ZM180-180h160v-160H180v160Zm440 0h160v-160H620v160Z\"/>\n",
              "  </svg>\n",
              "    </button>\n",
              "\n",
              "  <style>\n",
              "    .colab-df-container {\n",
              "      display:flex;\n",
              "      gap: 12px;\n",
              "    }\n",
              "\n",
              "    .colab-df-convert {\n",
              "      background-color: #E8F0FE;\n",
              "      border: none;\n",
              "      border-radius: 50%;\n",
              "      cursor: pointer;\n",
              "      display: none;\n",
              "      fill: #1967D2;\n",
              "      height: 32px;\n",
              "      padding: 0 0 0 0;\n",
              "      width: 32px;\n",
              "    }\n",
              "\n",
              "    .colab-df-convert:hover {\n",
              "      background-color: #E2EBFA;\n",
              "      box-shadow: 0px 1px 2px rgba(60, 64, 67, 0.3), 0px 1px 3px 1px rgba(60, 64, 67, 0.15);\n",
              "      fill: #174EA6;\n",
              "    }\n",
              "\n",
              "    .colab-df-buttons div {\n",
              "      margin-bottom: 4px;\n",
              "    }\n",
              "\n",
              "    [theme=dark] .colab-df-convert {\n",
              "      background-color: #3B4455;\n",
              "      fill: #D2E3FC;\n",
              "    }\n",
              "\n",
              "    [theme=dark] .colab-df-convert:hover {\n",
              "      background-color: #434B5C;\n",
              "      box-shadow: 0px 1px 3px 1px rgba(0, 0, 0, 0.15);\n",
              "      filter: drop-shadow(0px 1px 2px rgba(0, 0, 0, 0.3));\n",
              "      fill: #FFFFFF;\n",
              "    }\n",
              "  </style>\n",
              "\n",
              "    <script>\n",
              "      const buttonEl =\n",
              "        document.querySelector('#df-41328ad0-970d-4518-a4cb-d3d07577c166 button.colab-df-convert');\n",
              "      buttonEl.style.display =\n",
              "        google.colab.kernel.accessAllowed ? 'block' : 'none';\n",
              "\n",
              "      async function convertToInteractive(key) {\n",
              "        const element = document.querySelector('#df-41328ad0-970d-4518-a4cb-d3d07577c166');\n",
              "        const dataTable =\n",
              "          await google.colab.kernel.invokeFunction('convertToInteractive',\n",
              "                                                    [key], {});\n",
              "        if (!dataTable) return;\n",
              "\n",
              "        const docLinkHtml = 'Like what you see? Visit the ' +\n",
              "          '<a target=\"_blank\" href=https://colab.research.google.com/notebooks/data_table.ipynb>data table notebook</a>'\n",
              "          + ' to learn more about interactive tables.';\n",
              "        element.innerHTML = '';\n",
              "        dataTable['output_type'] = 'display_data';\n",
              "        await google.colab.output.renderOutput(dataTable, element);\n",
              "        const docLink = document.createElement('div');\n",
              "        docLink.innerHTML = docLinkHtml;\n",
              "        element.appendChild(docLink);\n",
              "      }\n",
              "    </script>\n",
              "  </div>\n",
              "\n",
              "\n",
              "<div id=\"df-2227b9ba-e672-4c74-b045-feea45b688b6\">\n",
              "  <button class=\"colab-df-quickchart\" onclick=\"quickchart('df-2227b9ba-e672-4c74-b045-feea45b688b6')\"\n",
              "            title=\"Suggest charts\"\n",
              "            style=\"display:none;\">\n",
              "\n",
              "<svg xmlns=\"http://www.w3.org/2000/svg\" height=\"24px\"viewBox=\"0 0 24 24\"\n",
              "     width=\"24px\">\n",
              "    <g>\n",
              "        <path d=\"M19 3H5c-1.1 0-2 .9-2 2v14c0 1.1.9 2 2 2h14c1.1 0 2-.9 2-2V5c0-1.1-.9-2-2-2zM9 17H7v-7h2v7zm4 0h-2V7h2v10zm4 0h-2v-4h2v4z\"/>\n",
              "    </g>\n",
              "</svg>\n",
              "  </button>\n",
              "\n",
              "<style>\n",
              "  .colab-df-quickchart {\n",
              "      --bg-color: #E8F0FE;\n",
              "      --fill-color: #1967D2;\n",
              "      --hover-bg-color: #E2EBFA;\n",
              "      --hover-fill-color: #174EA6;\n",
              "      --disabled-fill-color: #AAA;\n",
              "      --disabled-bg-color: #DDD;\n",
              "  }\n",
              "\n",
              "  [theme=dark] .colab-df-quickchart {\n",
              "      --bg-color: #3B4455;\n",
              "      --fill-color: #D2E3FC;\n",
              "      --hover-bg-color: #434B5C;\n",
              "      --hover-fill-color: #FFFFFF;\n",
              "      --disabled-bg-color: #3B4455;\n",
              "      --disabled-fill-color: #666;\n",
              "  }\n",
              "\n",
              "  .colab-df-quickchart {\n",
              "    background-color: var(--bg-color);\n",
              "    border: none;\n",
              "    border-radius: 50%;\n",
              "    cursor: pointer;\n",
              "    display: none;\n",
              "    fill: var(--fill-color);\n",
              "    height: 32px;\n",
              "    padding: 0;\n",
              "    width: 32px;\n",
              "  }\n",
              "\n",
              "  .colab-df-quickchart:hover {\n",
              "    background-color: var(--hover-bg-color);\n",
              "    box-shadow: 0 1px 2px rgba(60, 64, 67, 0.3), 0 1px 3px 1px rgba(60, 64, 67, 0.15);\n",
              "    fill: var(--button-hover-fill-color);\n",
              "  }\n",
              "\n",
              "  .colab-df-quickchart-complete:disabled,\n",
              "  .colab-df-quickchart-complete:disabled:hover {\n",
              "    background-color: var(--disabled-bg-color);\n",
              "    fill: var(--disabled-fill-color);\n",
              "    box-shadow: none;\n",
              "  }\n",
              "\n",
              "  .colab-df-spinner {\n",
              "    border: 2px solid var(--fill-color);\n",
              "    border-color: transparent;\n",
              "    border-bottom-color: var(--fill-color);\n",
              "    animation:\n",
              "      spin 1s steps(1) infinite;\n",
              "  }\n",
              "\n",
              "  @keyframes spin {\n",
              "    0% {\n",
              "      border-color: transparent;\n",
              "      border-bottom-color: var(--fill-color);\n",
              "      border-left-color: var(--fill-color);\n",
              "    }\n",
              "    20% {\n",
              "      border-color: transparent;\n",
              "      border-left-color: var(--fill-color);\n",
              "      border-top-color: var(--fill-color);\n",
              "    }\n",
              "    30% {\n",
              "      border-color: transparent;\n",
              "      border-left-color: var(--fill-color);\n",
              "      border-top-color: var(--fill-color);\n",
              "      border-right-color: var(--fill-color);\n",
              "    }\n",
              "    40% {\n",
              "      border-color: transparent;\n",
              "      border-right-color: var(--fill-color);\n",
              "      border-top-color: var(--fill-color);\n",
              "    }\n",
              "    60% {\n",
              "      border-color: transparent;\n",
              "      border-right-color: var(--fill-color);\n",
              "    }\n",
              "    80% {\n",
              "      border-color: transparent;\n",
              "      border-right-color: var(--fill-color);\n",
              "      border-bottom-color: var(--fill-color);\n",
              "    }\n",
              "    90% {\n",
              "      border-color: transparent;\n",
              "      border-bottom-color: var(--fill-color);\n",
              "    }\n",
              "  }\n",
              "</style>\n",
              "\n",
              "  <script>\n",
              "    async function quickchart(key) {\n",
              "      const quickchartButtonEl =\n",
              "        document.querySelector('#' + key + ' button');\n",
              "      quickchartButtonEl.disabled = true;  // To prevent multiple clicks.\n",
              "      quickchartButtonEl.classList.add('colab-df-spinner');\n",
              "      try {\n",
              "        const charts = await google.colab.kernel.invokeFunction(\n",
              "            'suggestCharts', [key], {});\n",
              "      } catch (error) {\n",
              "        console.error('Error during call to suggestCharts:', error);\n",
              "      }\n",
              "      quickchartButtonEl.classList.remove('colab-df-spinner');\n",
              "      quickchartButtonEl.classList.add('colab-df-quickchart-complete');\n",
              "    }\n",
              "    (() => {\n",
              "      let quickchartButtonEl =\n",
              "        document.querySelector('#df-2227b9ba-e672-4c74-b045-feea45b688b6 button');\n",
              "      quickchartButtonEl.style.display =\n",
              "        google.colab.kernel.accessAllowed ? 'block' : 'none';\n",
              "    })();\n",
              "  </script>\n",
              "</div>\n",
              "\n",
              "    </div>\n",
              "  </div>\n"
            ],
            "application/vnd.google.colaboratory.intrinsic+json": {
              "type": "dataframe",
              "variable_name": "df"
            }
          },
          "metadata": {},
          "execution_count": 2
        }
      ],
      "source": [
        "df=pd.read_csv(r\"https://raw.githubusercontent.com/ysercan/SerY/main/goodreads_v2\")\n",
        "df.head(10)"
      ]
    },
    {
      "cell_type": "code",
      "source": [
        "from google.colab import drive\n",
        "drive.mount('/content/drive')"
      ],
      "metadata": {
        "colab": {
          "base_uri": "https://localhost:8080/"
        },
        "id": "PzySm6HCjvpT",
        "outputId": "28621bf4-e37f-493f-b360-e5f54e058ec3"
      },
      "execution_count": 3,
      "outputs": [
        {
          "output_type": "stream",
          "name": "stdout",
          "text": [
            "Mounted at /content/drive\n"
          ]
        }
      ]
    },
    {
      "cell_type": "markdown",
      "metadata": {
        "id": "cWnsEJzIf48i"
      },
      "source": [
        "# **Cevap 2** Spoiler, Private Notes, Recommended For, Recommended By, Original Purchase Date, Original Purchase Location, BCID, ISBN13 sütunlarını kaldırın (silin)."
      ]
    },
    {
      "cell_type": "code",
      "execution_count": 4,
      "metadata": {
        "id": "qcUdMmDuf48j"
      },
      "outputs": [],
      "source": [
        "cols=[\"Spoiler\", \"Private Notes\", \"Recommended For\", \"Recommended By\", \"Original Purchase Date\", \"Original Purchase Location\", \"BCID\", \"ISBN13\"]"
      ]
    },
    {
      "cell_type": "code",
      "execution_count": 5,
      "metadata": {
        "id": "0vTHMP3Wf48j"
      },
      "outputs": [],
      "source": [
        "df_drop=df.drop(columns=cols).columns"
      ]
    },
    {
      "cell_type": "code",
      "source": [
        "df.head(10)"
      ],
      "metadata": {
        "colab": {
          "base_uri": "https://localhost:8080/",
          "height": 933
        },
        "id": "hef3aMooKHJ6",
        "outputId": "2e6b0de8-a4e6-47dc-f9fc-d1cee91f4b34"
      },
      "execution_count": 6,
      "outputs": [
        {
          "output_type": "execute_result",
          "data": {
            "text/plain": [
              "    Book Id                                              Title  \\\n",
              "0  13278990                                The Housing Monster   \n",
              "1      7805                                          Pale Fire   \n",
              "2  34220725                                   Never Use Futura   \n",
              "3  34913288  The Three Pillar Model for Business Decisions:...   \n",
              "4  11275062  Nixonland: The Rise of a President and the Fra...   \n",
              "5  27162486            The Banjo: America's African Instrument   \n",
              "6   8219235  Grounding for the Metaphysics of Morals/On a S...   \n",
              "7   1407132                                           Hinduism   \n",
              "8  29548767                             Time Travel: A History   \n",
              "9  31416132  The Complacent Class: The Self-Defeating Quest...   \n",
              "\n",
              "             Author              Author l-f Additional Authors        ISBN  \\\n",
              "0        prole.info  prole.info, prole.info                NaN  160486530X   \n",
              "1  Vladimir Nabokov       Nabokov, Vladimir                NaN   141185260   \n",
              "2       Doug Thomas            Thomas, Doug       Ellen Lupton  1616895721   \n",
              "3     George Siedel          Siedel, George                NaN         NaN   \n",
              "4    Rick Perlstein         Perlstein, Rick                NaN  1451606265   \n",
              "5    Laurent Dubois         Dubois, Laurent                NaN   674047842   \n",
              "6     Immanuel Kant          Kant, Immanuel                NaN  1452841098   \n",
              "7       Louis Renou            Renou, Louis                NaN   671478710   \n",
              "8      James Gleick           Gleick, James                NaN         NaN   \n",
              "9       Tyler Cowen            Cowen, Tyler                NaN         NaN   \n",
              "\n",
              "         ISBN13  My Rating  Average Rating  \\\n",
              "0  9.780000e+12          0            3.77   \n",
              "1  9.780000e+12          0            4.19   \n",
              "2  9.780000e+12          4            4.29   \n",
              "3           NaN          4            3.00   \n",
              "4  9.780000e+12          5            4.12   \n",
              "5  9.780000e+12          5            4.39   \n",
              "6  9.780000e+12          5            3.80   \n",
              "7  9.780000e+12          2            3.09   \n",
              "8           NaN          2            3.58   \n",
              "9           NaN          5            3.64   \n",
              "\n",
              "                                           Publisher  ... Private Notes  \\\n",
              "0                                           PM Press  ...           NaN   \n",
              "1                                  Penguin Books Ltd  ...           NaN   \n",
              "2                      Princeton Architectural Press  ...           NaN   \n",
              "3                            Van Rye Publishing, LLC  ...           NaN   \n",
              "4                                           Scribner  ...           NaN   \n",
              "5  Belknap Press: An Imprint of Harvard Universit...  ...           NaN   \n",
              "6                                        Createspace  ...           NaN   \n",
              "7                                       Pocket Books  ...           NaN   \n",
              "8                                           Pantheon  ...           NaN   \n",
              "9                                 St. Martin's Press  ...           NaN   \n",
              "\n",
              "   Read Count  Recommended For  Recommended By Owned Copies  \\\n",
              "0           1              NaN             NaN            0   \n",
              "1           0              NaN             NaN            0   \n",
              "2           1              NaN             NaN            0   \n",
              "3           1              NaN             NaN            0   \n",
              "4           1              NaN             NaN            0   \n",
              "5           1              NaN             NaN            0   \n",
              "6           1              NaN             NaN            0   \n",
              "7           1              NaN             NaN            0   \n",
              "8           1              NaN             NaN            0   \n",
              "9           1              NaN             NaN            0   \n",
              "\n",
              "  Original Purchase Date Original Purchase Location Condition  \\\n",
              "0                    NaN                        NaN       NaN   \n",
              "1                    NaN                        NaN       NaN   \n",
              "2                    NaN                        NaN       NaN   \n",
              "3                    NaN                        NaN       NaN   \n",
              "4                    NaN                        NaN       NaN   \n",
              "5                    NaN                        NaN       NaN   \n",
              "6                    NaN                        NaN       NaN   \n",
              "7                    NaN                        NaN       NaN   \n",
              "8                    NaN                        NaN       NaN   \n",
              "9                    NaN                        NaN       NaN   \n",
              "\n",
              "  Condition Description BCID  \n",
              "0                   NaN  NaN  \n",
              "1                   NaN  NaN  \n",
              "2                   NaN  NaN  \n",
              "3                   NaN  NaN  \n",
              "4                   NaN  NaN  \n",
              "5                   NaN  NaN  \n",
              "6                   NaN  NaN  \n",
              "7                   NaN  NaN  \n",
              "8                   NaN  NaN  \n",
              "9                   NaN  NaN  \n",
              "\n",
              "[10 rows x 31 columns]"
            ],
            "text/html": [
              "\n",
              "  <div id=\"df-c33c0d18-5d04-43f9-b1c7-8f0c24640894\" class=\"colab-df-container\">\n",
              "    <div>\n",
              "<style scoped>\n",
              "    .dataframe tbody tr th:only-of-type {\n",
              "        vertical-align: middle;\n",
              "    }\n",
              "\n",
              "    .dataframe tbody tr th {\n",
              "        vertical-align: top;\n",
              "    }\n",
              "\n",
              "    .dataframe thead th {\n",
              "        text-align: right;\n",
              "    }\n",
              "</style>\n",
              "<table border=\"1\" class=\"dataframe\">\n",
              "  <thead>\n",
              "    <tr style=\"text-align: right;\">\n",
              "      <th></th>\n",
              "      <th>Book Id</th>\n",
              "      <th>Title</th>\n",
              "      <th>Author</th>\n",
              "      <th>Author l-f</th>\n",
              "      <th>Additional Authors</th>\n",
              "      <th>ISBN</th>\n",
              "      <th>ISBN13</th>\n",
              "      <th>My Rating</th>\n",
              "      <th>Average Rating</th>\n",
              "      <th>Publisher</th>\n",
              "      <th>...</th>\n",
              "      <th>Private Notes</th>\n",
              "      <th>Read Count</th>\n",
              "      <th>Recommended For</th>\n",
              "      <th>Recommended By</th>\n",
              "      <th>Owned Copies</th>\n",
              "      <th>Original Purchase Date</th>\n",
              "      <th>Original Purchase Location</th>\n",
              "      <th>Condition</th>\n",
              "      <th>Condition Description</th>\n",
              "      <th>BCID</th>\n",
              "    </tr>\n",
              "  </thead>\n",
              "  <tbody>\n",
              "    <tr>\n",
              "      <th>0</th>\n",
              "      <td>13278990</td>\n",
              "      <td>The Housing Monster</td>\n",
              "      <td>prole.info</td>\n",
              "      <td>prole.info, prole.info</td>\n",
              "      <td>NaN</td>\n",
              "      <td>160486530X</td>\n",
              "      <td>9.780000e+12</td>\n",
              "      <td>0</td>\n",
              "      <td>3.77</td>\n",
              "      <td>PM Press</td>\n",
              "      <td>...</td>\n",
              "      <td>NaN</td>\n",
              "      <td>1</td>\n",
              "      <td>NaN</td>\n",
              "      <td>NaN</td>\n",
              "      <td>0</td>\n",
              "      <td>NaN</td>\n",
              "      <td>NaN</td>\n",
              "      <td>NaN</td>\n",
              "      <td>NaN</td>\n",
              "      <td>NaN</td>\n",
              "    </tr>\n",
              "    <tr>\n",
              "      <th>1</th>\n",
              "      <td>7805</td>\n",
              "      <td>Pale Fire</td>\n",
              "      <td>Vladimir Nabokov</td>\n",
              "      <td>Nabokov, Vladimir</td>\n",
              "      <td>NaN</td>\n",
              "      <td>141185260</td>\n",
              "      <td>9.780000e+12</td>\n",
              "      <td>0</td>\n",
              "      <td>4.19</td>\n",
              "      <td>Penguin Books Ltd</td>\n",
              "      <td>...</td>\n",
              "      <td>NaN</td>\n",
              "      <td>0</td>\n",
              "      <td>NaN</td>\n",
              "      <td>NaN</td>\n",
              "      <td>0</td>\n",
              "      <td>NaN</td>\n",
              "      <td>NaN</td>\n",
              "      <td>NaN</td>\n",
              "      <td>NaN</td>\n",
              "      <td>NaN</td>\n",
              "    </tr>\n",
              "    <tr>\n",
              "      <th>2</th>\n",
              "      <td>34220725</td>\n",
              "      <td>Never Use Futura</td>\n",
              "      <td>Doug Thomas</td>\n",
              "      <td>Thomas, Doug</td>\n",
              "      <td>Ellen Lupton</td>\n",
              "      <td>1616895721</td>\n",
              "      <td>9.780000e+12</td>\n",
              "      <td>4</td>\n",
              "      <td>4.29</td>\n",
              "      <td>Princeton Architectural Press</td>\n",
              "      <td>...</td>\n",
              "      <td>NaN</td>\n",
              "      <td>1</td>\n",
              "      <td>NaN</td>\n",
              "      <td>NaN</td>\n",
              "      <td>0</td>\n",
              "      <td>NaN</td>\n",
              "      <td>NaN</td>\n",
              "      <td>NaN</td>\n",
              "      <td>NaN</td>\n",
              "      <td>NaN</td>\n",
              "    </tr>\n",
              "    <tr>\n",
              "      <th>3</th>\n",
              "      <td>34913288</td>\n",
              "      <td>The Three Pillar Model for Business Decisions:...</td>\n",
              "      <td>George Siedel</td>\n",
              "      <td>Siedel, George</td>\n",
              "      <td>NaN</td>\n",
              "      <td>NaN</td>\n",
              "      <td>NaN</td>\n",
              "      <td>4</td>\n",
              "      <td>3.00</td>\n",
              "      <td>Van Rye Publishing, LLC</td>\n",
              "      <td>...</td>\n",
              "      <td>NaN</td>\n",
              "      <td>1</td>\n",
              "      <td>NaN</td>\n",
              "      <td>NaN</td>\n",
              "      <td>0</td>\n",
              "      <td>NaN</td>\n",
              "      <td>NaN</td>\n",
              "      <td>NaN</td>\n",
              "      <td>NaN</td>\n",
              "      <td>NaN</td>\n",
              "    </tr>\n",
              "    <tr>\n",
              "      <th>4</th>\n",
              "      <td>11275062</td>\n",
              "      <td>Nixonland: The Rise of a President and the Fra...</td>\n",
              "      <td>Rick Perlstein</td>\n",
              "      <td>Perlstein, Rick</td>\n",
              "      <td>NaN</td>\n",
              "      <td>1451606265</td>\n",
              "      <td>9.780000e+12</td>\n",
              "      <td>5</td>\n",
              "      <td>4.12</td>\n",
              "      <td>Scribner</td>\n",
              "      <td>...</td>\n",
              "      <td>NaN</td>\n",
              "      <td>1</td>\n",
              "      <td>NaN</td>\n",
              "      <td>NaN</td>\n",
              "      <td>0</td>\n",
              "      <td>NaN</td>\n",
              "      <td>NaN</td>\n",
              "      <td>NaN</td>\n",
              "      <td>NaN</td>\n",
              "      <td>NaN</td>\n",
              "    </tr>\n",
              "    <tr>\n",
              "      <th>5</th>\n",
              "      <td>27162486</td>\n",
              "      <td>The Banjo: America's African Instrument</td>\n",
              "      <td>Laurent Dubois</td>\n",
              "      <td>Dubois, Laurent</td>\n",
              "      <td>NaN</td>\n",
              "      <td>674047842</td>\n",
              "      <td>9.780000e+12</td>\n",
              "      <td>5</td>\n",
              "      <td>4.39</td>\n",
              "      <td>Belknap Press: An Imprint of Harvard Universit...</td>\n",
              "      <td>...</td>\n",
              "      <td>NaN</td>\n",
              "      <td>1</td>\n",
              "      <td>NaN</td>\n",
              "      <td>NaN</td>\n",
              "      <td>0</td>\n",
              "      <td>NaN</td>\n",
              "      <td>NaN</td>\n",
              "      <td>NaN</td>\n",
              "      <td>NaN</td>\n",
              "      <td>NaN</td>\n",
              "    </tr>\n",
              "    <tr>\n",
              "      <th>6</th>\n",
              "      <td>8219235</td>\n",
              "      <td>Grounding for the Metaphysics of Morals/On a S...</td>\n",
              "      <td>Immanuel Kant</td>\n",
              "      <td>Kant, Immanuel</td>\n",
              "      <td>NaN</td>\n",
              "      <td>1452841098</td>\n",
              "      <td>9.780000e+12</td>\n",
              "      <td>5</td>\n",
              "      <td>3.80</td>\n",
              "      <td>Createspace</td>\n",
              "      <td>...</td>\n",
              "      <td>NaN</td>\n",
              "      <td>1</td>\n",
              "      <td>NaN</td>\n",
              "      <td>NaN</td>\n",
              "      <td>0</td>\n",
              "      <td>NaN</td>\n",
              "      <td>NaN</td>\n",
              "      <td>NaN</td>\n",
              "      <td>NaN</td>\n",
              "      <td>NaN</td>\n",
              "    </tr>\n",
              "    <tr>\n",
              "      <th>7</th>\n",
              "      <td>1407132</td>\n",
              "      <td>Hinduism</td>\n",
              "      <td>Louis Renou</td>\n",
              "      <td>Renou, Louis</td>\n",
              "      <td>NaN</td>\n",
              "      <td>671478710</td>\n",
              "      <td>9.780000e+12</td>\n",
              "      <td>2</td>\n",
              "      <td>3.09</td>\n",
              "      <td>Pocket Books</td>\n",
              "      <td>...</td>\n",
              "      <td>NaN</td>\n",
              "      <td>1</td>\n",
              "      <td>NaN</td>\n",
              "      <td>NaN</td>\n",
              "      <td>0</td>\n",
              "      <td>NaN</td>\n",
              "      <td>NaN</td>\n",
              "      <td>NaN</td>\n",
              "      <td>NaN</td>\n",
              "      <td>NaN</td>\n",
              "    </tr>\n",
              "    <tr>\n",
              "      <th>8</th>\n",
              "      <td>29548767</td>\n",
              "      <td>Time Travel: A History</td>\n",
              "      <td>James Gleick</td>\n",
              "      <td>Gleick, James</td>\n",
              "      <td>NaN</td>\n",
              "      <td>NaN</td>\n",
              "      <td>NaN</td>\n",
              "      <td>2</td>\n",
              "      <td>3.58</td>\n",
              "      <td>Pantheon</td>\n",
              "      <td>...</td>\n",
              "      <td>NaN</td>\n",
              "      <td>1</td>\n",
              "      <td>NaN</td>\n",
              "      <td>NaN</td>\n",
              "      <td>0</td>\n",
              "      <td>NaN</td>\n",
              "      <td>NaN</td>\n",
              "      <td>NaN</td>\n",
              "      <td>NaN</td>\n",
              "      <td>NaN</td>\n",
              "    </tr>\n",
              "    <tr>\n",
              "      <th>9</th>\n",
              "      <td>31416132</td>\n",
              "      <td>The Complacent Class: The Self-Defeating Quest...</td>\n",
              "      <td>Tyler Cowen</td>\n",
              "      <td>Cowen, Tyler</td>\n",
              "      <td>NaN</td>\n",
              "      <td>NaN</td>\n",
              "      <td>NaN</td>\n",
              "      <td>5</td>\n",
              "      <td>3.64</td>\n",
              "      <td>St. Martin's Press</td>\n",
              "      <td>...</td>\n",
              "      <td>NaN</td>\n",
              "      <td>1</td>\n",
              "      <td>NaN</td>\n",
              "      <td>NaN</td>\n",
              "      <td>0</td>\n",
              "      <td>NaN</td>\n",
              "      <td>NaN</td>\n",
              "      <td>NaN</td>\n",
              "      <td>NaN</td>\n",
              "      <td>NaN</td>\n",
              "    </tr>\n",
              "  </tbody>\n",
              "</table>\n",
              "<p>10 rows × 31 columns</p>\n",
              "</div>\n",
              "    <div class=\"colab-df-buttons\">\n",
              "\n",
              "  <div class=\"colab-df-container\">\n",
              "    <button class=\"colab-df-convert\" onclick=\"convertToInteractive('df-c33c0d18-5d04-43f9-b1c7-8f0c24640894')\"\n",
              "            title=\"Convert this dataframe to an interactive table.\"\n",
              "            style=\"display:none;\">\n",
              "\n",
              "  <svg xmlns=\"http://www.w3.org/2000/svg\" height=\"24px\" viewBox=\"0 -960 960 960\">\n",
              "    <path d=\"M120-120v-720h720v720H120Zm60-500h600v-160H180v160Zm220 220h160v-160H400v160Zm0 220h160v-160H400v160ZM180-400h160v-160H180v160Zm440 0h160v-160H620v160ZM180-180h160v-160H180v160Zm440 0h160v-160H620v160Z\"/>\n",
              "  </svg>\n",
              "    </button>\n",
              "\n",
              "  <style>\n",
              "    .colab-df-container {\n",
              "      display:flex;\n",
              "      gap: 12px;\n",
              "    }\n",
              "\n",
              "    .colab-df-convert {\n",
              "      background-color: #E8F0FE;\n",
              "      border: none;\n",
              "      border-radius: 50%;\n",
              "      cursor: pointer;\n",
              "      display: none;\n",
              "      fill: #1967D2;\n",
              "      height: 32px;\n",
              "      padding: 0 0 0 0;\n",
              "      width: 32px;\n",
              "    }\n",
              "\n",
              "    .colab-df-convert:hover {\n",
              "      background-color: #E2EBFA;\n",
              "      box-shadow: 0px 1px 2px rgba(60, 64, 67, 0.3), 0px 1px 3px 1px rgba(60, 64, 67, 0.15);\n",
              "      fill: #174EA6;\n",
              "    }\n",
              "\n",
              "    .colab-df-buttons div {\n",
              "      margin-bottom: 4px;\n",
              "    }\n",
              "\n",
              "    [theme=dark] .colab-df-convert {\n",
              "      background-color: #3B4455;\n",
              "      fill: #D2E3FC;\n",
              "    }\n",
              "\n",
              "    [theme=dark] .colab-df-convert:hover {\n",
              "      background-color: #434B5C;\n",
              "      box-shadow: 0px 1px 3px 1px rgba(0, 0, 0, 0.15);\n",
              "      filter: drop-shadow(0px 1px 2px rgba(0, 0, 0, 0.3));\n",
              "      fill: #FFFFFF;\n",
              "    }\n",
              "  </style>\n",
              "\n",
              "    <script>\n",
              "      const buttonEl =\n",
              "        document.querySelector('#df-c33c0d18-5d04-43f9-b1c7-8f0c24640894 button.colab-df-convert');\n",
              "      buttonEl.style.display =\n",
              "        google.colab.kernel.accessAllowed ? 'block' : 'none';\n",
              "\n",
              "      async function convertToInteractive(key) {\n",
              "        const element = document.querySelector('#df-c33c0d18-5d04-43f9-b1c7-8f0c24640894');\n",
              "        const dataTable =\n",
              "          await google.colab.kernel.invokeFunction('convertToInteractive',\n",
              "                                                    [key], {});\n",
              "        if (!dataTable) return;\n",
              "\n",
              "        const docLinkHtml = 'Like what you see? Visit the ' +\n",
              "          '<a target=\"_blank\" href=https://colab.research.google.com/notebooks/data_table.ipynb>data table notebook</a>'\n",
              "          + ' to learn more about interactive tables.';\n",
              "        element.innerHTML = '';\n",
              "        dataTable['output_type'] = 'display_data';\n",
              "        await google.colab.output.renderOutput(dataTable, element);\n",
              "        const docLink = document.createElement('div');\n",
              "        docLink.innerHTML = docLinkHtml;\n",
              "        element.appendChild(docLink);\n",
              "      }\n",
              "    </script>\n",
              "  </div>\n",
              "\n",
              "\n",
              "<div id=\"df-6cea2c01-0696-4497-940f-7d1ad07ebe55\">\n",
              "  <button class=\"colab-df-quickchart\" onclick=\"quickchart('df-6cea2c01-0696-4497-940f-7d1ad07ebe55')\"\n",
              "            title=\"Suggest charts\"\n",
              "            style=\"display:none;\">\n",
              "\n",
              "<svg xmlns=\"http://www.w3.org/2000/svg\" height=\"24px\"viewBox=\"0 0 24 24\"\n",
              "     width=\"24px\">\n",
              "    <g>\n",
              "        <path d=\"M19 3H5c-1.1 0-2 .9-2 2v14c0 1.1.9 2 2 2h14c1.1 0 2-.9 2-2V5c0-1.1-.9-2-2-2zM9 17H7v-7h2v7zm4 0h-2V7h2v10zm4 0h-2v-4h2v4z\"/>\n",
              "    </g>\n",
              "</svg>\n",
              "  </button>\n",
              "\n",
              "<style>\n",
              "  .colab-df-quickchart {\n",
              "      --bg-color: #E8F0FE;\n",
              "      --fill-color: #1967D2;\n",
              "      --hover-bg-color: #E2EBFA;\n",
              "      --hover-fill-color: #174EA6;\n",
              "      --disabled-fill-color: #AAA;\n",
              "      --disabled-bg-color: #DDD;\n",
              "  }\n",
              "\n",
              "  [theme=dark] .colab-df-quickchart {\n",
              "      --bg-color: #3B4455;\n",
              "      --fill-color: #D2E3FC;\n",
              "      --hover-bg-color: #434B5C;\n",
              "      --hover-fill-color: #FFFFFF;\n",
              "      --disabled-bg-color: #3B4455;\n",
              "      --disabled-fill-color: #666;\n",
              "  }\n",
              "\n",
              "  .colab-df-quickchart {\n",
              "    background-color: var(--bg-color);\n",
              "    border: none;\n",
              "    border-radius: 50%;\n",
              "    cursor: pointer;\n",
              "    display: none;\n",
              "    fill: var(--fill-color);\n",
              "    height: 32px;\n",
              "    padding: 0;\n",
              "    width: 32px;\n",
              "  }\n",
              "\n",
              "  .colab-df-quickchart:hover {\n",
              "    background-color: var(--hover-bg-color);\n",
              "    box-shadow: 0 1px 2px rgba(60, 64, 67, 0.3), 0 1px 3px 1px rgba(60, 64, 67, 0.15);\n",
              "    fill: var(--button-hover-fill-color);\n",
              "  }\n",
              "\n",
              "  .colab-df-quickchart-complete:disabled,\n",
              "  .colab-df-quickchart-complete:disabled:hover {\n",
              "    background-color: var(--disabled-bg-color);\n",
              "    fill: var(--disabled-fill-color);\n",
              "    box-shadow: none;\n",
              "  }\n",
              "\n",
              "  .colab-df-spinner {\n",
              "    border: 2px solid var(--fill-color);\n",
              "    border-color: transparent;\n",
              "    border-bottom-color: var(--fill-color);\n",
              "    animation:\n",
              "      spin 1s steps(1) infinite;\n",
              "  }\n",
              "\n",
              "  @keyframes spin {\n",
              "    0% {\n",
              "      border-color: transparent;\n",
              "      border-bottom-color: var(--fill-color);\n",
              "      border-left-color: var(--fill-color);\n",
              "    }\n",
              "    20% {\n",
              "      border-color: transparent;\n",
              "      border-left-color: var(--fill-color);\n",
              "      border-top-color: var(--fill-color);\n",
              "    }\n",
              "    30% {\n",
              "      border-color: transparent;\n",
              "      border-left-color: var(--fill-color);\n",
              "      border-top-color: var(--fill-color);\n",
              "      border-right-color: var(--fill-color);\n",
              "    }\n",
              "    40% {\n",
              "      border-color: transparent;\n",
              "      border-right-color: var(--fill-color);\n",
              "      border-top-color: var(--fill-color);\n",
              "    }\n",
              "    60% {\n",
              "      border-color: transparent;\n",
              "      border-right-color: var(--fill-color);\n",
              "    }\n",
              "    80% {\n",
              "      border-color: transparent;\n",
              "      border-right-color: var(--fill-color);\n",
              "      border-bottom-color: var(--fill-color);\n",
              "    }\n",
              "    90% {\n",
              "      border-color: transparent;\n",
              "      border-bottom-color: var(--fill-color);\n",
              "    }\n",
              "  }\n",
              "</style>\n",
              "\n",
              "  <script>\n",
              "    async function quickchart(key) {\n",
              "      const quickchartButtonEl =\n",
              "        document.querySelector('#' + key + ' button');\n",
              "      quickchartButtonEl.disabled = true;  // To prevent multiple clicks.\n",
              "      quickchartButtonEl.classList.add('colab-df-spinner');\n",
              "      try {\n",
              "        const charts = await google.colab.kernel.invokeFunction(\n",
              "            'suggestCharts', [key], {});\n",
              "      } catch (error) {\n",
              "        console.error('Error during call to suggestCharts:', error);\n",
              "      }\n",
              "      quickchartButtonEl.classList.remove('colab-df-spinner');\n",
              "      quickchartButtonEl.classList.add('colab-df-quickchart-complete');\n",
              "    }\n",
              "    (() => {\n",
              "      let quickchartButtonEl =\n",
              "        document.querySelector('#df-6cea2c01-0696-4497-940f-7d1ad07ebe55 button');\n",
              "      quickchartButtonEl.style.display =\n",
              "        google.colab.kernel.accessAllowed ? 'block' : 'none';\n",
              "    })();\n",
              "  </script>\n",
              "</div>\n",
              "\n",
              "    </div>\n",
              "  </div>\n"
            ],
            "application/vnd.google.colaboratory.intrinsic+json": {
              "type": "dataframe",
              "variable_name": "df"
            }
          },
          "metadata": {},
          "execution_count": 6
        }
      ]
    },
    {
      "cell_type": "markdown",
      "metadata": {
        "id": "ZqOfM16Rf48k"
      },
      "source": [
        "# **Cevap 3** Book Id sutünunun index olarak belirlenmesi."
      ]
    },
    {
      "cell_type": "code",
      "execution_count": 7,
      "metadata": {
        "id": "5fVRyI08f48l",
        "colab": {
          "base_uri": "https://localhost:8080/",
          "height": 982
        },
        "outputId": "9723e2b3-5692-45f2-833d-23362ac66a1d"
      },
      "outputs": [
        {
          "output_type": "execute_result",
          "data": {
            "text/plain": [
              "                                                      Title            Author  \\\n",
              "Book Id                                                                         \n",
              "13278990                                The Housing Monster        prole.info   \n",
              "7805                                              Pale Fire  Vladimir Nabokov   \n",
              "34220725                                   Never Use Futura       Doug Thomas   \n",
              "34913288  The Three Pillar Model for Business Decisions:...     George Siedel   \n",
              "11275062  Nixonland: The Rise of a President and the Fra...    Rick Perlstein   \n",
              "27162486            The Banjo: America's African Instrument    Laurent Dubois   \n",
              "8219235   Grounding for the Metaphysics of Morals/On a S...     Immanuel Kant   \n",
              "1407132                                            Hinduism       Louis Renou   \n",
              "29548767                             Time Travel: A History      James Gleick   \n",
              "31416132  The Complacent Class: The Self-Defeating Quest...       Tyler Cowen   \n",
              "\n",
              "                      Author l-f Additional Authors        ISBN        ISBN13  \\\n",
              "Book Id                                                                         \n",
              "13278990  prole.info, prole.info                NaN  160486530X  9.780000e+12   \n",
              "7805           Nabokov, Vladimir                NaN   141185260  9.780000e+12   \n",
              "34220725            Thomas, Doug       Ellen Lupton  1616895721  9.780000e+12   \n",
              "34913288          Siedel, George                NaN         NaN           NaN   \n",
              "11275062         Perlstein, Rick                NaN  1451606265  9.780000e+12   \n",
              "27162486         Dubois, Laurent                NaN   674047842  9.780000e+12   \n",
              "8219235           Kant, Immanuel                NaN  1452841098  9.780000e+12   \n",
              "1407132             Renou, Louis                NaN   671478710  9.780000e+12   \n",
              "29548767           Gleick, James                NaN         NaN           NaN   \n",
              "31416132            Cowen, Tyler                NaN         NaN           NaN   \n",
              "\n",
              "          My Rating  Average Rating  \\\n",
              "Book Id                               \n",
              "13278990          0            3.77   \n",
              "7805              0            4.19   \n",
              "34220725          4            4.29   \n",
              "34913288          4            3.00   \n",
              "11275062          5            4.12   \n",
              "27162486          5            4.39   \n",
              "8219235           5            3.80   \n",
              "1407132           2            3.09   \n",
              "29548767          2            3.58   \n",
              "31416132          5            3.64   \n",
              "\n",
              "                                                  Publisher  \\\n",
              "Book Id                                                       \n",
              "13278990                                           PM Press   \n",
              "7805                                      Penguin Books Ltd   \n",
              "34220725                      Princeton Architectural Press   \n",
              "34913288                            Van Rye Publishing, LLC   \n",
              "11275062                                           Scribner   \n",
              "27162486  Belknap Press: An Imprint of Harvard Universit...   \n",
              "8219235                                         Createspace   \n",
              "1407132                                        Pocket Books   \n",
              "29548767                                           Pantheon   \n",
              "31416132                                 St. Martin's Press   \n",
              "\n",
              "                        Binding  ...  Private Notes  Read Count  \\\n",
              "Book Id                          ...                              \n",
              "13278990              Paperback  ...            NaN           1   \n",
              "7805                  Paperback  ...            NaN           0   \n",
              "34220725              Paperback  ...            NaN           1   \n",
              "34913288         Kindle Edition  ...            NaN           1   \n",
              "11275062                  ebook  ...            NaN           1   \n",
              "27162486              Hardcover  ...            NaN           1   \n",
              "8219235               Paperback  ...            NaN           1   \n",
              "1407132   Mass Market Paperback  ...            NaN           1   \n",
              "29548767         Kindle Edition  ...            NaN           1   \n",
              "31416132         Kindle Edition  ...            NaN           1   \n",
              "\n",
              "          Recommended For Recommended By Owned Copies Original Purchase Date  \\\n",
              "Book Id                                                                        \n",
              "13278990              NaN            NaN            0                    NaN   \n",
              "7805                  NaN            NaN            0                    NaN   \n",
              "34220725              NaN            NaN            0                    NaN   \n",
              "34913288              NaN            NaN            0                    NaN   \n",
              "11275062              NaN            NaN            0                    NaN   \n",
              "27162486              NaN            NaN            0                    NaN   \n",
              "8219235               NaN            NaN            0                    NaN   \n",
              "1407132               NaN            NaN            0                    NaN   \n",
              "29548767              NaN            NaN            0                    NaN   \n",
              "31416132              NaN            NaN            0                    NaN   \n",
              "\n",
              "         Original Purchase Location Condition Condition Description  BCID  \n",
              "Book Id                                                                    \n",
              "13278990                        NaN       NaN                   NaN   NaN  \n",
              "7805                            NaN       NaN                   NaN   NaN  \n",
              "34220725                        NaN       NaN                   NaN   NaN  \n",
              "34913288                        NaN       NaN                   NaN   NaN  \n",
              "11275062                        NaN       NaN                   NaN   NaN  \n",
              "27162486                        NaN       NaN                   NaN   NaN  \n",
              "8219235                         NaN       NaN                   NaN   NaN  \n",
              "1407132                         NaN       NaN                   NaN   NaN  \n",
              "29548767                        NaN       NaN                   NaN   NaN  \n",
              "31416132                        NaN       NaN                   NaN   NaN  \n",
              "\n",
              "[10 rows x 30 columns]"
            ],
            "text/html": [
              "\n",
              "  <div id=\"df-3ef10a3c-172d-4d47-a027-be9356b81431\" class=\"colab-df-container\">\n",
              "    <div>\n",
              "<style scoped>\n",
              "    .dataframe tbody tr th:only-of-type {\n",
              "        vertical-align: middle;\n",
              "    }\n",
              "\n",
              "    .dataframe tbody tr th {\n",
              "        vertical-align: top;\n",
              "    }\n",
              "\n",
              "    .dataframe thead th {\n",
              "        text-align: right;\n",
              "    }\n",
              "</style>\n",
              "<table border=\"1\" class=\"dataframe\">\n",
              "  <thead>\n",
              "    <tr style=\"text-align: right;\">\n",
              "      <th></th>\n",
              "      <th>Title</th>\n",
              "      <th>Author</th>\n",
              "      <th>Author l-f</th>\n",
              "      <th>Additional Authors</th>\n",
              "      <th>ISBN</th>\n",
              "      <th>ISBN13</th>\n",
              "      <th>My Rating</th>\n",
              "      <th>Average Rating</th>\n",
              "      <th>Publisher</th>\n",
              "      <th>Binding</th>\n",
              "      <th>...</th>\n",
              "      <th>Private Notes</th>\n",
              "      <th>Read Count</th>\n",
              "      <th>Recommended For</th>\n",
              "      <th>Recommended By</th>\n",
              "      <th>Owned Copies</th>\n",
              "      <th>Original Purchase Date</th>\n",
              "      <th>Original Purchase Location</th>\n",
              "      <th>Condition</th>\n",
              "      <th>Condition Description</th>\n",
              "      <th>BCID</th>\n",
              "    </tr>\n",
              "    <tr>\n",
              "      <th>Book Id</th>\n",
              "      <th></th>\n",
              "      <th></th>\n",
              "      <th></th>\n",
              "      <th></th>\n",
              "      <th></th>\n",
              "      <th></th>\n",
              "      <th></th>\n",
              "      <th></th>\n",
              "      <th></th>\n",
              "      <th></th>\n",
              "      <th></th>\n",
              "      <th></th>\n",
              "      <th></th>\n",
              "      <th></th>\n",
              "      <th></th>\n",
              "      <th></th>\n",
              "      <th></th>\n",
              "      <th></th>\n",
              "      <th></th>\n",
              "      <th></th>\n",
              "      <th></th>\n",
              "    </tr>\n",
              "  </thead>\n",
              "  <tbody>\n",
              "    <tr>\n",
              "      <th>13278990</th>\n",
              "      <td>The Housing Monster</td>\n",
              "      <td>prole.info</td>\n",
              "      <td>prole.info, prole.info</td>\n",
              "      <td>NaN</td>\n",
              "      <td>160486530X</td>\n",
              "      <td>9.780000e+12</td>\n",
              "      <td>0</td>\n",
              "      <td>3.77</td>\n",
              "      <td>PM Press</td>\n",
              "      <td>Paperback</td>\n",
              "      <td>...</td>\n",
              "      <td>NaN</td>\n",
              "      <td>1</td>\n",
              "      <td>NaN</td>\n",
              "      <td>NaN</td>\n",
              "      <td>0</td>\n",
              "      <td>NaN</td>\n",
              "      <td>NaN</td>\n",
              "      <td>NaN</td>\n",
              "      <td>NaN</td>\n",
              "      <td>NaN</td>\n",
              "    </tr>\n",
              "    <tr>\n",
              "      <th>7805</th>\n",
              "      <td>Pale Fire</td>\n",
              "      <td>Vladimir Nabokov</td>\n",
              "      <td>Nabokov, Vladimir</td>\n",
              "      <td>NaN</td>\n",
              "      <td>141185260</td>\n",
              "      <td>9.780000e+12</td>\n",
              "      <td>0</td>\n",
              "      <td>4.19</td>\n",
              "      <td>Penguin Books Ltd</td>\n",
              "      <td>Paperback</td>\n",
              "      <td>...</td>\n",
              "      <td>NaN</td>\n",
              "      <td>0</td>\n",
              "      <td>NaN</td>\n",
              "      <td>NaN</td>\n",
              "      <td>0</td>\n",
              "      <td>NaN</td>\n",
              "      <td>NaN</td>\n",
              "      <td>NaN</td>\n",
              "      <td>NaN</td>\n",
              "      <td>NaN</td>\n",
              "    </tr>\n",
              "    <tr>\n",
              "      <th>34220725</th>\n",
              "      <td>Never Use Futura</td>\n",
              "      <td>Doug Thomas</td>\n",
              "      <td>Thomas, Doug</td>\n",
              "      <td>Ellen Lupton</td>\n",
              "      <td>1616895721</td>\n",
              "      <td>9.780000e+12</td>\n",
              "      <td>4</td>\n",
              "      <td>4.29</td>\n",
              "      <td>Princeton Architectural Press</td>\n",
              "      <td>Paperback</td>\n",
              "      <td>...</td>\n",
              "      <td>NaN</td>\n",
              "      <td>1</td>\n",
              "      <td>NaN</td>\n",
              "      <td>NaN</td>\n",
              "      <td>0</td>\n",
              "      <td>NaN</td>\n",
              "      <td>NaN</td>\n",
              "      <td>NaN</td>\n",
              "      <td>NaN</td>\n",
              "      <td>NaN</td>\n",
              "    </tr>\n",
              "    <tr>\n",
              "      <th>34913288</th>\n",
              "      <td>The Three Pillar Model for Business Decisions:...</td>\n",
              "      <td>George Siedel</td>\n",
              "      <td>Siedel, George</td>\n",
              "      <td>NaN</td>\n",
              "      <td>NaN</td>\n",
              "      <td>NaN</td>\n",
              "      <td>4</td>\n",
              "      <td>3.00</td>\n",
              "      <td>Van Rye Publishing, LLC</td>\n",
              "      <td>Kindle Edition</td>\n",
              "      <td>...</td>\n",
              "      <td>NaN</td>\n",
              "      <td>1</td>\n",
              "      <td>NaN</td>\n",
              "      <td>NaN</td>\n",
              "      <td>0</td>\n",
              "      <td>NaN</td>\n",
              "      <td>NaN</td>\n",
              "      <td>NaN</td>\n",
              "      <td>NaN</td>\n",
              "      <td>NaN</td>\n",
              "    </tr>\n",
              "    <tr>\n",
              "      <th>11275062</th>\n",
              "      <td>Nixonland: The Rise of a President and the Fra...</td>\n",
              "      <td>Rick Perlstein</td>\n",
              "      <td>Perlstein, Rick</td>\n",
              "      <td>NaN</td>\n",
              "      <td>1451606265</td>\n",
              "      <td>9.780000e+12</td>\n",
              "      <td>5</td>\n",
              "      <td>4.12</td>\n",
              "      <td>Scribner</td>\n",
              "      <td>ebook</td>\n",
              "      <td>...</td>\n",
              "      <td>NaN</td>\n",
              "      <td>1</td>\n",
              "      <td>NaN</td>\n",
              "      <td>NaN</td>\n",
              "      <td>0</td>\n",
              "      <td>NaN</td>\n",
              "      <td>NaN</td>\n",
              "      <td>NaN</td>\n",
              "      <td>NaN</td>\n",
              "      <td>NaN</td>\n",
              "    </tr>\n",
              "    <tr>\n",
              "      <th>27162486</th>\n",
              "      <td>The Banjo: America's African Instrument</td>\n",
              "      <td>Laurent Dubois</td>\n",
              "      <td>Dubois, Laurent</td>\n",
              "      <td>NaN</td>\n",
              "      <td>674047842</td>\n",
              "      <td>9.780000e+12</td>\n",
              "      <td>5</td>\n",
              "      <td>4.39</td>\n",
              "      <td>Belknap Press: An Imprint of Harvard Universit...</td>\n",
              "      <td>Hardcover</td>\n",
              "      <td>...</td>\n",
              "      <td>NaN</td>\n",
              "      <td>1</td>\n",
              "      <td>NaN</td>\n",
              "      <td>NaN</td>\n",
              "      <td>0</td>\n",
              "      <td>NaN</td>\n",
              "      <td>NaN</td>\n",
              "      <td>NaN</td>\n",
              "      <td>NaN</td>\n",
              "      <td>NaN</td>\n",
              "    </tr>\n",
              "    <tr>\n",
              "      <th>8219235</th>\n",
              "      <td>Grounding for the Metaphysics of Morals/On a S...</td>\n",
              "      <td>Immanuel Kant</td>\n",
              "      <td>Kant, Immanuel</td>\n",
              "      <td>NaN</td>\n",
              "      <td>1452841098</td>\n",
              "      <td>9.780000e+12</td>\n",
              "      <td>5</td>\n",
              "      <td>3.80</td>\n",
              "      <td>Createspace</td>\n",
              "      <td>Paperback</td>\n",
              "      <td>...</td>\n",
              "      <td>NaN</td>\n",
              "      <td>1</td>\n",
              "      <td>NaN</td>\n",
              "      <td>NaN</td>\n",
              "      <td>0</td>\n",
              "      <td>NaN</td>\n",
              "      <td>NaN</td>\n",
              "      <td>NaN</td>\n",
              "      <td>NaN</td>\n",
              "      <td>NaN</td>\n",
              "    </tr>\n",
              "    <tr>\n",
              "      <th>1407132</th>\n",
              "      <td>Hinduism</td>\n",
              "      <td>Louis Renou</td>\n",
              "      <td>Renou, Louis</td>\n",
              "      <td>NaN</td>\n",
              "      <td>671478710</td>\n",
              "      <td>9.780000e+12</td>\n",
              "      <td>2</td>\n",
              "      <td>3.09</td>\n",
              "      <td>Pocket Books</td>\n",
              "      <td>Mass Market Paperback</td>\n",
              "      <td>...</td>\n",
              "      <td>NaN</td>\n",
              "      <td>1</td>\n",
              "      <td>NaN</td>\n",
              "      <td>NaN</td>\n",
              "      <td>0</td>\n",
              "      <td>NaN</td>\n",
              "      <td>NaN</td>\n",
              "      <td>NaN</td>\n",
              "      <td>NaN</td>\n",
              "      <td>NaN</td>\n",
              "    </tr>\n",
              "    <tr>\n",
              "      <th>29548767</th>\n",
              "      <td>Time Travel: A History</td>\n",
              "      <td>James Gleick</td>\n",
              "      <td>Gleick, James</td>\n",
              "      <td>NaN</td>\n",
              "      <td>NaN</td>\n",
              "      <td>NaN</td>\n",
              "      <td>2</td>\n",
              "      <td>3.58</td>\n",
              "      <td>Pantheon</td>\n",
              "      <td>Kindle Edition</td>\n",
              "      <td>...</td>\n",
              "      <td>NaN</td>\n",
              "      <td>1</td>\n",
              "      <td>NaN</td>\n",
              "      <td>NaN</td>\n",
              "      <td>0</td>\n",
              "      <td>NaN</td>\n",
              "      <td>NaN</td>\n",
              "      <td>NaN</td>\n",
              "      <td>NaN</td>\n",
              "      <td>NaN</td>\n",
              "    </tr>\n",
              "    <tr>\n",
              "      <th>31416132</th>\n",
              "      <td>The Complacent Class: The Self-Defeating Quest...</td>\n",
              "      <td>Tyler Cowen</td>\n",
              "      <td>Cowen, Tyler</td>\n",
              "      <td>NaN</td>\n",
              "      <td>NaN</td>\n",
              "      <td>NaN</td>\n",
              "      <td>5</td>\n",
              "      <td>3.64</td>\n",
              "      <td>St. Martin's Press</td>\n",
              "      <td>Kindle Edition</td>\n",
              "      <td>...</td>\n",
              "      <td>NaN</td>\n",
              "      <td>1</td>\n",
              "      <td>NaN</td>\n",
              "      <td>NaN</td>\n",
              "      <td>0</td>\n",
              "      <td>NaN</td>\n",
              "      <td>NaN</td>\n",
              "      <td>NaN</td>\n",
              "      <td>NaN</td>\n",
              "      <td>NaN</td>\n",
              "    </tr>\n",
              "  </tbody>\n",
              "</table>\n",
              "<p>10 rows × 30 columns</p>\n",
              "</div>\n",
              "    <div class=\"colab-df-buttons\">\n",
              "\n",
              "  <div class=\"colab-df-container\">\n",
              "    <button class=\"colab-df-convert\" onclick=\"convertToInteractive('df-3ef10a3c-172d-4d47-a027-be9356b81431')\"\n",
              "            title=\"Convert this dataframe to an interactive table.\"\n",
              "            style=\"display:none;\">\n",
              "\n",
              "  <svg xmlns=\"http://www.w3.org/2000/svg\" height=\"24px\" viewBox=\"0 -960 960 960\">\n",
              "    <path d=\"M120-120v-720h720v720H120Zm60-500h600v-160H180v160Zm220 220h160v-160H400v160Zm0 220h160v-160H400v160ZM180-400h160v-160H180v160Zm440 0h160v-160H620v160ZM180-180h160v-160H180v160Zm440 0h160v-160H620v160Z\"/>\n",
              "  </svg>\n",
              "    </button>\n",
              "\n",
              "  <style>\n",
              "    .colab-df-container {\n",
              "      display:flex;\n",
              "      gap: 12px;\n",
              "    }\n",
              "\n",
              "    .colab-df-convert {\n",
              "      background-color: #E8F0FE;\n",
              "      border: none;\n",
              "      border-radius: 50%;\n",
              "      cursor: pointer;\n",
              "      display: none;\n",
              "      fill: #1967D2;\n",
              "      height: 32px;\n",
              "      padding: 0 0 0 0;\n",
              "      width: 32px;\n",
              "    }\n",
              "\n",
              "    .colab-df-convert:hover {\n",
              "      background-color: #E2EBFA;\n",
              "      box-shadow: 0px 1px 2px rgba(60, 64, 67, 0.3), 0px 1px 3px 1px rgba(60, 64, 67, 0.15);\n",
              "      fill: #174EA6;\n",
              "    }\n",
              "\n",
              "    .colab-df-buttons div {\n",
              "      margin-bottom: 4px;\n",
              "    }\n",
              "\n",
              "    [theme=dark] .colab-df-convert {\n",
              "      background-color: #3B4455;\n",
              "      fill: #D2E3FC;\n",
              "    }\n",
              "\n",
              "    [theme=dark] .colab-df-convert:hover {\n",
              "      background-color: #434B5C;\n",
              "      box-shadow: 0px 1px 3px 1px rgba(0, 0, 0, 0.15);\n",
              "      filter: drop-shadow(0px 1px 2px rgba(0, 0, 0, 0.3));\n",
              "      fill: #FFFFFF;\n",
              "    }\n",
              "  </style>\n",
              "\n",
              "    <script>\n",
              "      const buttonEl =\n",
              "        document.querySelector('#df-3ef10a3c-172d-4d47-a027-be9356b81431 button.colab-df-convert');\n",
              "      buttonEl.style.display =\n",
              "        google.colab.kernel.accessAllowed ? 'block' : 'none';\n",
              "\n",
              "      async function convertToInteractive(key) {\n",
              "        const element = document.querySelector('#df-3ef10a3c-172d-4d47-a027-be9356b81431');\n",
              "        const dataTable =\n",
              "          await google.colab.kernel.invokeFunction('convertToInteractive',\n",
              "                                                    [key], {});\n",
              "        if (!dataTable) return;\n",
              "\n",
              "        const docLinkHtml = 'Like what you see? Visit the ' +\n",
              "          '<a target=\"_blank\" href=https://colab.research.google.com/notebooks/data_table.ipynb>data table notebook</a>'\n",
              "          + ' to learn more about interactive tables.';\n",
              "        element.innerHTML = '';\n",
              "        dataTable['output_type'] = 'display_data';\n",
              "        await google.colab.output.renderOutput(dataTable, element);\n",
              "        const docLink = document.createElement('div');\n",
              "        docLink.innerHTML = docLinkHtml;\n",
              "        element.appendChild(docLink);\n",
              "      }\n",
              "    </script>\n",
              "  </div>\n",
              "\n",
              "\n",
              "<div id=\"df-ac62eb09-c66c-4dfa-bc8a-6d47fae53f16\">\n",
              "  <button class=\"colab-df-quickchart\" onclick=\"quickchart('df-ac62eb09-c66c-4dfa-bc8a-6d47fae53f16')\"\n",
              "            title=\"Suggest charts\"\n",
              "            style=\"display:none;\">\n",
              "\n",
              "<svg xmlns=\"http://www.w3.org/2000/svg\" height=\"24px\"viewBox=\"0 0 24 24\"\n",
              "     width=\"24px\">\n",
              "    <g>\n",
              "        <path d=\"M19 3H5c-1.1 0-2 .9-2 2v14c0 1.1.9 2 2 2h14c1.1 0 2-.9 2-2V5c0-1.1-.9-2-2-2zM9 17H7v-7h2v7zm4 0h-2V7h2v10zm4 0h-2v-4h2v4z\"/>\n",
              "    </g>\n",
              "</svg>\n",
              "  </button>\n",
              "\n",
              "<style>\n",
              "  .colab-df-quickchart {\n",
              "      --bg-color: #E8F0FE;\n",
              "      --fill-color: #1967D2;\n",
              "      --hover-bg-color: #E2EBFA;\n",
              "      --hover-fill-color: #174EA6;\n",
              "      --disabled-fill-color: #AAA;\n",
              "      --disabled-bg-color: #DDD;\n",
              "  }\n",
              "\n",
              "  [theme=dark] .colab-df-quickchart {\n",
              "      --bg-color: #3B4455;\n",
              "      --fill-color: #D2E3FC;\n",
              "      --hover-bg-color: #434B5C;\n",
              "      --hover-fill-color: #FFFFFF;\n",
              "      --disabled-bg-color: #3B4455;\n",
              "      --disabled-fill-color: #666;\n",
              "  }\n",
              "\n",
              "  .colab-df-quickchart {\n",
              "    background-color: var(--bg-color);\n",
              "    border: none;\n",
              "    border-radius: 50%;\n",
              "    cursor: pointer;\n",
              "    display: none;\n",
              "    fill: var(--fill-color);\n",
              "    height: 32px;\n",
              "    padding: 0;\n",
              "    width: 32px;\n",
              "  }\n",
              "\n",
              "  .colab-df-quickchart:hover {\n",
              "    background-color: var(--hover-bg-color);\n",
              "    box-shadow: 0 1px 2px rgba(60, 64, 67, 0.3), 0 1px 3px 1px rgba(60, 64, 67, 0.15);\n",
              "    fill: var(--button-hover-fill-color);\n",
              "  }\n",
              "\n",
              "  .colab-df-quickchart-complete:disabled,\n",
              "  .colab-df-quickchart-complete:disabled:hover {\n",
              "    background-color: var(--disabled-bg-color);\n",
              "    fill: var(--disabled-fill-color);\n",
              "    box-shadow: none;\n",
              "  }\n",
              "\n",
              "  .colab-df-spinner {\n",
              "    border: 2px solid var(--fill-color);\n",
              "    border-color: transparent;\n",
              "    border-bottom-color: var(--fill-color);\n",
              "    animation:\n",
              "      spin 1s steps(1) infinite;\n",
              "  }\n",
              "\n",
              "  @keyframes spin {\n",
              "    0% {\n",
              "      border-color: transparent;\n",
              "      border-bottom-color: var(--fill-color);\n",
              "      border-left-color: var(--fill-color);\n",
              "    }\n",
              "    20% {\n",
              "      border-color: transparent;\n",
              "      border-left-color: var(--fill-color);\n",
              "      border-top-color: var(--fill-color);\n",
              "    }\n",
              "    30% {\n",
              "      border-color: transparent;\n",
              "      border-left-color: var(--fill-color);\n",
              "      border-top-color: var(--fill-color);\n",
              "      border-right-color: var(--fill-color);\n",
              "    }\n",
              "    40% {\n",
              "      border-color: transparent;\n",
              "      border-right-color: var(--fill-color);\n",
              "      border-top-color: var(--fill-color);\n",
              "    }\n",
              "    60% {\n",
              "      border-color: transparent;\n",
              "      border-right-color: var(--fill-color);\n",
              "    }\n",
              "    80% {\n",
              "      border-color: transparent;\n",
              "      border-right-color: var(--fill-color);\n",
              "      border-bottom-color: var(--fill-color);\n",
              "    }\n",
              "    90% {\n",
              "      border-color: transparent;\n",
              "      border-bottom-color: var(--fill-color);\n",
              "    }\n",
              "  }\n",
              "</style>\n",
              "\n",
              "  <script>\n",
              "    async function quickchart(key) {\n",
              "      const quickchartButtonEl =\n",
              "        document.querySelector('#' + key + ' button');\n",
              "      quickchartButtonEl.disabled = true;  // To prevent multiple clicks.\n",
              "      quickchartButtonEl.classList.add('colab-df-spinner');\n",
              "      try {\n",
              "        const charts = await google.colab.kernel.invokeFunction(\n",
              "            'suggestCharts', [key], {});\n",
              "      } catch (error) {\n",
              "        console.error('Error during call to suggestCharts:', error);\n",
              "      }\n",
              "      quickchartButtonEl.classList.remove('colab-df-spinner');\n",
              "      quickchartButtonEl.classList.add('colab-df-quickchart-complete');\n",
              "    }\n",
              "    (() => {\n",
              "      let quickchartButtonEl =\n",
              "        document.querySelector('#df-ac62eb09-c66c-4dfa-bc8a-6d47fae53f16 button');\n",
              "      quickchartButtonEl.style.display =\n",
              "        google.colab.kernel.accessAllowed ? 'block' : 'none';\n",
              "    })();\n",
              "  </script>\n",
              "</div>\n",
              "\n",
              "    </div>\n",
              "  </div>\n"
            ],
            "application/vnd.google.colaboratory.intrinsic+json": {
              "type": "dataframe",
              "variable_name": "df"
            }
          },
          "metadata": {},
          "execution_count": 7
        }
      ],
      "source": [
        "df.set_index(\"Book Id\",inplace=True)\n",
        "df.head(10)"
      ]
    },
    {
      "cell_type": "markdown",
      "metadata": {
        "id": "QM0-MUOZf48m"
      },
      "source": [
        "# **Cevap 4** Author l-f sütunundaki verileri istenen formatta biçimlendirilmesi."
      ]
    },
    {
      "cell_type": "code",
      "execution_count": 8,
      "metadata": {
        "id": "CT_ljwc4f48n"
      },
      "outputs": [],
      "source": [
        "df[\"Author l-f\"]=df[\"Author l-f\"].apply(lambda x:x.replace(\",\",\"\").replace(\".\",\"\"))"
      ]
    },
    {
      "cell_type": "code",
      "execution_count": 9,
      "metadata": {
        "id": "ZxMKwzkhf48o"
      },
      "outputs": [],
      "source": [
        "def parçala(x):\n",
        "    liste=[]\n",
        "    kelimeler=x.split()\n",
        "    for i in range(0,len(kelimeler)):\n",
        "        if i==0:\n",
        "            liste.append(kelimeler[0])\n",
        "        else:\n",
        "            liste.append(kelimeler[i][0])\n",
        "    liste.append(liste[0])\n",
        "    liste.remove(liste[0])\n",
        "    liste=\".\".join(liste)\n",
        "    return liste\n"
      ]
    },
    {
      "cell_type": "code",
      "execution_count": 10,
      "metadata": {
        "id": "xKqWKy-3f48p"
      },
      "outputs": [],
      "source": [
        "df[\"Author l-f\"] = df[\"Author l-f\"].apply(parçala)"
      ]
    },
    {
      "cell_type": "code",
      "source": [
        "df[\"Author l-f\"].head(10)"
      ],
      "metadata": {
        "colab": {
          "base_uri": "https://localhost:8080/"
        },
        "id": "Y-3bxHRPKT4X",
        "outputId": "a12348ae-e07a-4e00-b85f-b9f3fd668d9e"
      },
      "execution_count": 11,
      "outputs": [
        {
          "output_type": "execute_result",
          "data": {
            "text/plain": [
              "Book Id\n",
              "13278990    p.proleinfo\n",
              "7805          V.Nabokov\n",
              "34220725       D.Thomas\n",
              "34913288       G.Siedel\n",
              "11275062    R.Perlstein\n",
              "27162486       L.Dubois\n",
              "8219235          I.Kant\n",
              "1407132         L.Renou\n",
              "29548767       J.Gleick\n",
              "31416132        T.Cowen\n",
              "Name: Author l-f, dtype: object"
            ]
          },
          "metadata": {},
          "execution_count": 11
        }
      ]
    },
    {
      "cell_type": "markdown",
      "metadata": {
        "id": "u_P76XvXf48q"
      },
      "source": [
        "# **Cevap 5** Additional Authors sütunundaki verileri yukarıdaki madde şekline getirin.  "
      ]
    },
    {
      "cell_type": "code",
      "source": [
        "df[\"Additional Authors\"]=df[\"Additional Authors\"].astype(\"str\")"
      ],
      "metadata": {
        "id": "0Ve3b1FZNJeC"
      },
      "execution_count": 12,
      "outputs": []
    },
    {
      "cell_type": "code",
      "source": [
        "ikinciYazarSplit=df[\"Additional Authors\"].str.split(\",\")"
      ],
      "metadata": {
        "id": "mUwuPWv3NEEy"
      },
      "execution_count": 13,
      "outputs": []
    },
    {
      "cell_type": "code",
      "execution_count": 14,
      "metadata": {
        "id": "VLec66e9f48r",
        "colab": {
          "base_uri": "https://localhost:8080/"
        },
        "outputId": "86f0c0bc-ac6d-496e-bf87-7958b1ebb70d"
      },
      "outputs": [
        {
          "output_type": "execute_result",
          "data": {
            "text/plain": [
              "Book Id\n",
              "13278990            \n",
              "7805                \n",
              "34220725    E.Lupton\n",
              "34913288            \n",
              "11275062            \n",
              "27162486            \n",
              "8219235             \n",
              "1407132             \n",
              "29548767            \n",
              "31416132            \n",
              "Name: Additional Authors, dtype: object"
            ]
          },
          "metadata": {},
          "execution_count": 14
        }
      ],
      "source": [
        "def ikinciYazar(liste):\n",
        "    birleştir=list()\n",
        "    for i in liste:\n",
        "        liste2=[]\n",
        "        if i==\"nan\":\n",
        "            return \"\"\n",
        "        elif len(liste)<=1:\n",
        "                    liste2=i.split()\n",
        "                    ilk_harf=liste2[0][0]\n",
        "                    liste2.pop(0)\n",
        "                    return ilk_harf+\".\"+liste2[0]\n",
        "        else:\n",
        "                liste_uzun=i.split(\",\")\n",
        "                for i in liste_uzun:\n",
        "                    listeler=i.split()\n",
        "                    ilk_harf=listeler[0][0]\n",
        "                    listeler.pop(0)\n",
        "                    yazarRevize=ilk_harf+\".\"+listeler[0]\n",
        "                    birleştir.append(yazarRevize)\n",
        "    son_liste=\",\".join(birleştir)\n",
        "    return son_liste\n",
        "\n",
        "df[\"Additional Authors\"]=ikinciYazarSplit.apply(ikinciYazar)\n",
        "df[\"Additional Authors\"].head(10)"
      ]
    },
    {
      "cell_type": "markdown",
      "metadata": {
        "id": "DKxzT5fZf48s"
      },
      "source": [
        "# **Cevap 6** Author l-f ve Additional Authors sütunlarının içeriğini “,” ile birleştirip Author sütununa yerleştirin."
      ]
    },
    {
      "cell_type": "code",
      "execution_count": 15,
      "metadata": {
        "id": "79eZK5Lpf48s",
        "colab": {
          "base_uri": "https://localhost:8080/"
        },
        "outputId": "e8e3dbac-2836-4126-ed11-bfe1daa4b770"
      },
      "outputs": [
        {
          "output_type": "execute_result",
          "data": {
            "text/plain": [
              "Book Id\n",
              "13278990         p.proleinfo,\n",
              "7805               V.Nabokov,\n",
              "34220725    D.Thomas,E.Lupton\n",
              "34913288            G.Siedel,\n",
              "11275062         R.Perlstein,\n",
              "27162486            L.Dubois,\n",
              "8219235               I.Kant,\n",
              "1407132              L.Renou,\n",
              "29548767            J.Gleick,\n",
              "31416132             T.Cowen,\n",
              "Name: author, dtype: object"
            ]
          },
          "metadata": {},
          "execution_count": 15
        }
      ],
      "source": [
        "df[\"author\"]=df[\"Author l-f\"]+\",\"+df[\"Additional Authors\"]\n",
        "df[\"author\"].head(10)"
      ]
    },
    {
      "cell_type": "markdown",
      "metadata": {
        "id": "q_AaUrZof48t"
      },
      "source": [
        "# **Cevap 7** ISBN ve Number of Pages sütununda eksik değerlere 0 atayın."
      ]
    },
    {
      "cell_type": "code",
      "execution_count": 16,
      "metadata": {
        "id": "eH_lnMiZf48t"
      },
      "outputs": [],
      "source": [
        "df[\"ISBN\"]=df[\"ISBN\"].fillna(0)\n",
        "df[\"Number of Pages\"]=df[\"Number of Pages\"].fillna(0)"
      ]
    },
    {
      "cell_type": "code",
      "source": [
        "df[\"ISBN\"].head(10)"
      ],
      "metadata": {
        "colab": {
          "base_uri": "https://localhost:8080/"
        },
        "id": "eapyb-Hj0E6I",
        "outputId": "29893e7c-4426-492f-ea3e-3b8f32242515"
      },
      "execution_count": 17,
      "outputs": [
        {
          "output_type": "execute_result",
          "data": {
            "text/plain": [
              "Book Id\n",
              "13278990    160486530X\n",
              "7805         141185260\n",
              "34220725    1616895721\n",
              "34913288             0\n",
              "11275062    1451606265\n",
              "27162486     674047842\n",
              "8219235     1452841098\n",
              "1407132      671478710\n",
              "29548767             0\n",
              "31416132             0\n",
              "Name: ISBN, dtype: object"
            ]
          },
          "metadata": {},
          "execution_count": 17
        }
      ]
    },
    {
      "cell_type": "code",
      "source": [
        "df[\"Number of Pages\"].head(10)"
      ],
      "metadata": {
        "colab": {
          "base_uri": "https://localhost:8080/"
        },
        "id": "-TArA7NU0IP1",
        "outputId": "20feb108-3ae5-489f-af28-b7283af27c3b"
      },
      "execution_count": 18,
      "outputs": [
        {
          "output_type": "execute_result",
          "data": {
            "text/plain": [
              "Book Id\n",
              "13278990    160.0\n",
              "7805        246.0\n",
              "34220725    208.0\n",
              "34913288    253.0\n",
              "11275062    896.0\n",
              "27162486    384.0\n",
              "8219235      94.0\n",
              "1407132       0.0\n",
              "29548767    352.0\n",
              "31416132    256.0\n",
              "Name: Number of Pages, dtype: float64"
            ]
          },
          "metadata": {},
          "execution_count": 18
        }
      ]
    },
    {
      "cell_type": "markdown",
      "metadata": {
        "id": "zn4-aF8Xf48u"
      },
      "source": [
        "# **Cevap 8** Year Published sütunundaki değerleri Original Publication Year’daki değerler ile değiştirin. Eğer original publication year değeri boşsa değiştirmeyin."
      ]
    },
    {
      "cell_type": "code",
      "execution_count": 19,
      "metadata": {
        "id": "woZyGDppf48u"
      },
      "outputs": [],
      "source": [
        "opy=df[\"Original Publication Year\"]"
      ]
    },
    {
      "cell_type": "code",
      "execution_count": 20,
      "metadata": {
        "id": "cabQ8006f48u"
      },
      "outputs": [],
      "source": [
        "yp=df[\"Year Published\"]"
      ]
    },
    {
      "cell_type": "code",
      "execution_count": 21,
      "metadata": {
        "id": "4OQfex8hf48u"
      },
      "outputs": [],
      "source": [
        "filt=df[\"Original Publication Year\"].isna() # NA olanlar"
      ]
    },
    {
      "cell_type": "code",
      "execution_count": 22,
      "metadata": {
        "id": "HOsG_Fuwf48v"
      },
      "outputs": [],
      "source": [
        "notNaOpy=opy[~filt].index.to_list() # Orijinal Pup. Year sütünunda NA olmayan değerlerin bookID'si"
      ]
    },
    {
      "cell_type": "code",
      "execution_count": 23,
      "metadata": {
        "id": "zSegsWNMf48v"
      },
      "outputs": [],
      "source": [
        "yp.loc[notNaOpy]=opy[~filt] # Orijinal Pup. Year sütünunda NA olmayan değerlerin Year Published sütununa atanması"
      ]
    },
    {
      "cell_type": "code",
      "execution_count": 24,
      "metadata": {
        "id": "-K9ak8gNf48w"
      },
      "outputs": [],
      "source": [
        "df[\"Year Published\"]=yp"
      ]
    },
    {
      "cell_type": "code",
      "execution_count": 25,
      "metadata": {
        "colab": {
          "base_uri": "https://localhost:8080/"
        },
        "id": "Ykx8QwZwf48w",
        "outputId": "ef765fc8-e643-4171-f9c1-23ca6a49e6a7"
      },
      "outputs": [
        {
          "output_type": "execute_result",
          "data": {
            "text/plain": [
              "Book Id\n",
              "13278990    2011.0\n",
              "7805        1962.0\n",
              "34220725    2017.0\n",
              "34913288    2017.0\n",
              "11275062    2008.0\n",
              "27162486    2016.0\n",
              "8219235     1785.0\n",
              "1407132     1951.0\n",
              "29548767    2016.0\n",
              "31416132    2017.0\n",
              "Name: Year Published, dtype: float64"
            ]
          },
          "metadata": {},
          "execution_count": 25
        }
      ],
      "source": [
        "df[\"Year Published\"] = df[\"Year Published\"].dropna()\n",
        "df[\"Year Published\"].head(10)"
      ]
    },
    {
      "cell_type": "markdown",
      "metadata": {
        "id": "a52gk4kbf48w"
      },
      "source": [
        "# **Cevap 9** Bookshelves with positions sütununda sadece sayı değerleri kalsın."
      ]
    },
    {
      "cell_type": "code",
      "execution_count": 26,
      "metadata": {
        "id": "B0NLeP45f48x",
        "colab": {
          "base_uri": "https://localhost:8080/"
        },
        "outputId": "a779445e-a1cc-4e32-c751-30f5d28c3d71"
      },
      "outputs": [
        {
          "output_type": "execute_result",
          "data": {
            "text/plain": [
              "Book Id\n",
              "13278990     3\n",
              "7805        26\n",
              "34220725      \n",
              "34913288      \n",
              "11275062      \n",
              "27162486      \n",
              "8219235       \n",
              "1407132       \n",
              "29548767      \n",
              "31416132      \n",
              "Name: Bookshelves with positions, dtype: object"
            ]
          },
          "metadata": {},
          "execution_count": 26
        }
      ],
      "source": [
        "seri=df[\"Bookshelves with positions\"] #sutün seri olarak çevriliyor\n",
        "df[\"Bookshelves with positions\"]=seri.str.extract(r\"(\\d+)\") # serideki ilk sayıyı al\n",
        "filt=df[\"Bookshelves with positions\"].isna() # kelime sil\n",
        "df.loc[filt,\"Bookshelves with positions\"]=\"\"  # sayı yoksa komple sil\n",
        "df[\"Bookshelves with positions\"].head(10)"
      ]
    },
    {
      "cell_type": "markdown",
      "metadata": {
        "id": "_1m3MlMHf48x"
      },
      "source": [
        "# **Cevap 10** Date Read ve Date Added içindeki tarihlerin sadece yılını bırakın."
      ]
    },
    {
      "cell_type": "code",
      "execution_count": 30,
      "metadata": {
        "id": "0YZjZ79zf48x"
      },
      "outputs": [],
      "source": [
        "df[\"Date Read\"]=pd.to_datetime(df[\"Date Read\"], format=\"%d/%m/%Y\")\n",
        "df[\"Date Added\"]=pd.to_datetime(df[\"Date Added\"],format=\"%d/%m/%Y\")"
      ]
    },
    {
      "cell_type": "code",
      "execution_count": 31,
      "metadata": {
        "id": "VPSl5SJ0f48x",
        "colab": {
          "base_uri": "https://localhost:8080/"
        },
        "outputId": "8256062e-37a2-4424-8fec-3bc80861307d"
      },
      "outputs": [
        {
          "output_type": "execute_result",
          "data": {
            "text/plain": [
              "Book Id\n",
              "13278990       NaN\n",
              "7805           NaN\n",
              "34220725       NaN\n",
              "34913288    2017.0\n",
              "11275062    2017.0\n",
              "27162486       NaN\n",
              "8219235        NaN\n",
              "1407132        NaN\n",
              "29548767    2017.0\n",
              "31416132       NaN\n",
              "Name: Date Read, dtype: float64"
            ]
          },
          "metadata": {},
          "execution_count": 31
        }
      ],
      "source": [
        "df[\"Date Read\"]=pd.to_datetime(df[\"Date Read\"]).dt.year\n",
        "df[\"Date Read\"].head(10)"
      ]
    },
    {
      "cell_type": "code",
      "execution_count": 33,
      "metadata": {
        "id": "fiDmjo6Tf48x"
      },
      "outputs": [],
      "source": [
        "df[\"Date Added\"]=pd.to_datetime(df[\"Date Added\"]).dt.year"
      ]
    },
    {
      "cell_type": "markdown",
      "metadata": {
        "id": "kqq6stN4f48y"
      },
      "source": [
        "# **Cevap 11** Quickness diye bir sütun açın. Yeni oluşturduğunuz Date Read ve Date Added birbirine eşitse buna 1 değilse 0 değeri atayın."
      ]
    },
    {
      "cell_type": "code",
      "execution_count": 34,
      "metadata": {
        "id": "3KR9NoRKf48y"
      },
      "outputs": [],
      "source": [
        "df[\"Quickness\"]=df[\"Date Read\"]==df[\"Date Added\"]"
      ]
    },
    {
      "cell_type": "code",
      "execution_count": 35,
      "metadata": {
        "id": "-QpHJkMaf48y"
      },
      "outputs": [],
      "source": [
        "df[\"Quickness\"]=df[\"Quickness\"].astype(int)"
      ]
    },
    {
      "cell_type": "code",
      "execution_count": 36,
      "metadata": {
        "colab": {
          "base_uri": "https://localhost:8080/"
        },
        "id": "zy-YXRlWf48y",
        "outputId": "d66383b8-9666-4e2e-d22e-fd5d1ea91dd2"
      },
      "outputs": [
        {
          "output_type": "execute_result",
          "data": {
            "text/plain": [
              "Book Id\n",
              "13278990    0\n",
              "7805        0\n",
              "34220725    0\n",
              "34913288    0\n",
              "11275062    0\n",
              "27162486    0\n",
              "8219235     0\n",
              "1407132     0\n",
              "29548767    0\n",
              "31416132    0\n",
              "Name: Quickness, dtype: int64"
            ]
          },
          "metadata": {},
          "execution_count": 36
        }
      ],
      "source": [
        "df[\"Quickness\"].head(10)"
      ]
    },
    {
      "cell_type": "markdown",
      "source": [
        "# **Cevap 12** My Review sütunu içindeki metinde kaç kelime olduğunu sayıp, bunun içeriğini bu sayıyla değiştirin. Tüm noktalama işaretlerini kaldırıp (boşlukla değiştirdikten sonra) sayabilirsiniz."
      ],
      "metadata": {
        "id": "lJ_COqgfoR6v"
      }
    },
    {
      "cell_type": "code",
      "source": [
        "df[\"My Review\"]=df[\"My Review\"].astype(str)"
      ],
      "metadata": {
        "id": "JZPI6UW31bLS"
      },
      "execution_count": 37,
      "outputs": []
    },
    {
      "cell_type": "code",
      "source": [
        "str(df[\"My Review\"].iloc[0])==\"nan\""
      ],
      "metadata": {
        "colab": {
          "base_uri": "https://localhost:8080/"
        },
        "id": "kPtE6h3E08D7",
        "outputId": "bec7c5bd-32ca-4473-d940-f6988f148ccd"
      },
      "execution_count": 38,
      "outputs": [
        {
          "output_type": "execute_result",
          "data": {
            "text/plain": [
              "True"
            ]
          },
          "metadata": {},
          "execution_count": 38
        }
      ]
    },
    {
      "cell_type": "code",
      "execution_count": 39,
      "metadata": {
        "id": "OvFQ_hTXf484"
      },
      "outputs": [],
      "source": [
        "def noktalama_sil(x):\n",
        "  list2=[]\n",
        "  if str(x)!=\"nan\":\n",
        "\n",
        "      kelimeler2=x.split()\n",
        "      for i in range(0,len(kelimeler2)):\n",
        "          list2.append(kelimeler2[i].translate(str.maketrans('', '', string.punctuation)))\n",
        "  else:\n",
        "    pass\n",
        "  return list2\n"
      ]
    },
    {
      "cell_type": "code",
      "execution_count": 40,
      "metadata": {
        "id": "NHqgR1Izf485"
      },
      "outputs": [],
      "source": [
        "df[\"My Review\"]=df[\"My Review\"].apply(noktalama_sil).apply(lambda x: len(x))"
      ]
    },
    {
      "cell_type": "code",
      "execution_count": 41,
      "metadata": {
        "colab": {
          "base_uri": "https://localhost:8080/"
        },
        "id": "NlvF-TVrf485",
        "outputId": "9792a37e-94ec-40aa-b6f9-f986ee2d6da4"
      },
      "outputs": [
        {
          "output_type": "execute_result",
          "data": {
            "text/plain": [
              "Book Id\n",
              "13278990      0\n",
              "7805          0\n",
              "34220725     50\n",
              "34913288    112\n",
              "11275062      0\n",
              "27162486      0\n",
              "8219235       0\n",
              "1407132      13\n",
              "29548767    226\n",
              "31416132      0\n",
              "Name: My Review, dtype: int64"
            ]
          },
          "metadata": {},
          "execution_count": 41
        }
      ],
      "source": [
        "df[\"My Review\"].head(10)"
      ]
    },
    {
      "cell_type": "markdown",
      "source": [
        "# **Cevap 13** Bookshelves sütunundaki değerleri (dolu olanları) alarak yüzdeler halinde bir Pie Chart ile gösterin.\n"
      ],
      "metadata": {
        "id": "ZA4hnz-Y3wP4"
      }
    },
    {
      "cell_type": "code",
      "source": [
        "bs=df[\"Bookshelves\"]"
      ],
      "metadata": {
        "id": "s5c951294Fa_"
      },
      "execution_count": 42,
      "outputs": []
    },
    {
      "cell_type": "code",
      "source": [
        "filt=bs.isna()"
      ],
      "metadata": {
        "id": "vYkrc9Lh4N2Y"
      },
      "execution_count": 43,
      "outputs": []
    },
    {
      "cell_type": "code",
      "source": [
        "full_bs=bs[~filt]"
      ],
      "metadata": {
        "id": "tQAUrU6U4E9f"
      },
      "execution_count": 44,
      "outputs": []
    },
    {
      "cell_type": "code",
      "source": [
        "full_bs=full_bs.astype(str)\n"
      ],
      "metadata": {
        "id": "epmw_YOI33FQ"
      },
      "execution_count": 45,
      "outputs": []
    },
    {
      "cell_type": "code",
      "source": [
        "fig,ax=plt.subplots(figsize=(6,6))\n",
        "full_bs.value_counts().plot.pie(shadow=True,autopct=\"%.0f%%\")\n",
        "ax.set_title(\"Kitaplık Yüzdelik Dağılımı\",fontsize=15)"
      ],
      "metadata": {
        "colab": {
          "base_uri": "https://localhost:8080/",
          "height": 541
        },
        "id": "jDorKG5p5B8h",
        "outputId": "ea4fc925-6791-4986-f504-ba7ea81d192b"
      },
      "execution_count": 46,
      "outputs": [
        {
          "output_type": "execute_result",
          "data": {
            "text/plain": [
              "Text(0.5, 1.0, 'Kitaplık Yüzdelik Dağılımı')"
            ]
          },
          "metadata": {},
          "execution_count": 46
        },
        {
          "output_type": "display_data",
          "data": {
            "text/plain": [
              "<Figure size 600x600 with 1 Axes>"
            ],
            "image/png": "[encoded data removed]"
          },
          "metadata": {}
        }
      ]
    },
    {
      "cell_type": "markdown",
      "source": [
        "# **Cevap 14** Year Published değerlerini bir histogram olarak gösterin.\n",
        "\n",
        "\n"
      ],
      "metadata": {
        "id": "2yvJCXLNqyAe"
      }
    },
    {
      "cell_type": "code",
      "source": [
        "df[\"Year Published\"]=df[\"Year Published\"].fillna(2007)\n",
        "fig,ax=plt.subplots(figsize=(8,6))\n",
        "sns.histplot(data=df[\"Year Published\"],ax=ax)\n",
        "ax.set_title(\"Yayım Yılı Dağılımı\",fontsize=15)"
      ],
      "metadata": {
        "id": "2gtOpLzv5aEp",
        "colab": {
          "base_uri": "https://localhost:8080/",
          "height": 585
        },
        "outputId": "b4478bd6-537e-4960-fc11-571f151ca05e"
      },
      "execution_count": 47,
      "outputs": [
        {
          "output_type": "execute_result",
          "data": {
            "text/plain": [
              "Text(0.5, 1.0, 'Yayım Yılı Dağılımı')"
            ]
          },
          "metadata": {},
          "execution_count": 47
        },
        {
          "output_type": "display_data",
          "data": {
            "text/plain": [
              "<Figure size 800x600 with 1 Axes>"
            ],
            "image/png": "[encoded data removed]"
          },
          "metadata": {}
        }
      ]
    },
    {
      "cell_type": "markdown",
      "source": [
        "# **Cevap 15** Exclusive Shelf değerlerini bir Bar Graph ve Pie Chart ile gösterin."
      ],
      "metadata": {
        "id": "DK3eJOFLuvBI"
      }
    },
    {
      "cell_type": "code",
      "source": [
        "bs=df[\"Exclusive Shelf\"] # seri haline getirdik sutünu\n",
        "filt=bs.isna()    # boş olan hücreleri filrelemek için kullandık boolean\n",
        "full_bs=bs[~filt]  # filtre dışı elemanları seçtirdik tilde işareti ekleyerek\n",
        "full_bs=full_bs.astype(str)  # String olarak kaydettik\n",
        "fig,ax=plt.subplots(figsize=(6,6))   #\n",
        "full_bs.value_counts().plot.pie(shadow=True,autopct=\"%.0f%%\")\n",
        "ax.set_title(\"Exclusice Shelf Yüzdelik Dağılımı\",fontsize=15)"
      ],
      "metadata": {
        "colab": {
          "base_uri": "https://localhost:8080/",
          "height": 541
        },
        "id": "0QdA_3bIsXbI",
        "outputId": "cd11e2ac-96e3-44ba-d16a-aaa3029e590f"
      },
      "execution_count": 48,
      "outputs": [
        {
          "output_type": "execute_result",
          "data": {
            "text/plain": [
              "Text(0.5, 1.0, 'Exclusice Shelf Yüzdelik Dağılımı')"
            ]
          },
          "metadata": {},
          "execution_count": 48
        },
        {
          "output_type": "display_data",
          "data": {
            "text/plain": [
              "<Figure size 600x600 with 1 Axes>"
            ],
            "image/png": "[encoded data removed]"
          },
          "metadata": {}
        }
      ]
    },
    {
      "cell_type": "code",
      "source": [
        "fig,ax=plt.subplots(figsize=(6,4))\n",
        "df[\"Exclusive Shelf\"].value_counts().plot(kind=\"bar\")\n",
        "ax.set_title(\"Exclusive Shelf Bar Grafiği\")\n",
        "ax.set_xlabel(\"Adet\",fontsize=12)\n",
        "ax.set_ylabel(\"Mevcut Durumu\",fontsize=12)\n",
        "ax.grid()"
      ],
      "metadata": {
        "colab": {
          "base_uri": "https://localhost:8080/",
          "height": 520
        },
        "id": "C0Q-ALNvsxbZ",
        "outputId": "41b4be63-26da-4130-e9bf-3db13d645f73"
      },
      "execution_count": 49,
      "outputs": [
        {
          "output_type": "display_data",
          "data": {
            "text/plain": [
              "<Figure size 600x400 with 1 Axes>"
            ],
            "image/png": "[encoded data removed]"
          },
          "metadata": {}
        }
      ]
    },
    {
      "cell_type": "markdown",
      "source": [
        "# **Cevap 16** Number of Pages  değerlerini bir histogram olarak gösterin.(50'lik aralıklar ile)"
      ],
      "metadata": {
        "id": "R1344jwexqX6"
      }
    },
    {
      "cell_type": "code",
      "source": [
        "df[\"Number of Pages\"]=df[\"Number of Pages\"].astype(\"int\")\n",
        "df[\"BIN_Number of Pages\"]=pd.cut(df[\"Number of Pages\"],bins=np.arange(0,df[\"Number of Pages\"].max()+50,50),include_lowest=True)\n",
        "df[\"BIN_Number of Pages\"]=df[\"BIN_Number of Pages\"].astype(\"str\")"
      ],
      "metadata": {
        "id": "2d1w6gl3t-No"
      },
      "execution_count": 50,
      "outputs": []
    },
    {
      "cell_type": "code",
      "source": [
        "\n",
        "fig,ax=plt.subplots(figsize=(10,6))\n",
        "sns.histplot(x=\"BIN_Number of Pages\",data=df,ax=ax)\n",
        "plt.xticks(rotation=90)\n",
        "plt.title(\"Sayfa Sayı Adet Grafiği\",size=15,weight=\"bold\")\n",
        "plt.xlabel(\"Sayfa Sayı Aralıkları\",size=10,weight=\"bold\")\n",
        "plt.ylabel(\"Kitap Adedi\",size=10,weight=\"bold\")"
      ],
      "metadata": {
        "id": "N_jx6n5iyq3U",
        "colab": {
          "base_uri": "https://localhost:8080/",
          "height": 617
        },
        "outputId": "8b495b49-c156-47de-adb9-1cfc90546bfd"
      },
      "execution_count": 51,
      "outputs": [
        {
          "output_type": "execute_result",
          "data": {
            "text/plain": [
              "Text(0, 0.5, 'Kitap Adedi')"
            ]
          },
          "metadata": {},
          "execution_count": 51
        },
        {
          "output_type": "display_data",
          "data": {
            "text/plain": [
              "<Figure size 1000x600 with 1 Axes>"
            ],
            "image/png": "[encoded data removed]"
          },
          "metadata": {}
        }
      ]
    },
    {
      "cell_type": "markdown",
      "source": [
        "# **Cevap 17** Binding ve My Rating sütunlarını kullanarak Violin Plot çizin."
      ],
      "metadata": {
        "id": "8wya-Rp31AyV"
      }
    },
    {
      "cell_type": "code",
      "source": [
        "ax=sns.violinplot(x='Binding', y='My Rating', data=df)\n",
        "ax.set_title(\"Violin Plot of Bindind and My Rating\")\n",
        "plt.xticks(rotation=90)"
      ],
      "metadata": {
        "colab": {
          "base_uri": "https://localhost:8080/",
          "height": 761
        },
        "id": "bXjIrxqt1LP6",
        "outputId": "6dbb8b3f-6543-485f-ccda-f4fdebe12b5a"
      },
      "execution_count": 52,
      "outputs": [
        {
          "output_type": "execute_result",
          "data": {
            "text/plain": [
              "([0, 1, 2, 3, 4, 5, 6],\n",
              " [Text(0, 0, 'Paperback'),\n",
              "  Text(1, 0, 'Kindle Edition'),\n",
              "  Text(2, 0, 'ebook'),\n",
              "  Text(3, 0, 'Hardcover'),\n",
              "  Text(4, 0, 'Mass Market Paperback'),\n",
              "  Text(5, 0, 'paper'),\n",
              "  Text(6, 0, 'Spiral-bound')])"
            ]
          },
          "metadata": {},
          "execution_count": 52
        },
        {
          "output_type": "display_data",
          "data": {
            "text/plain": [
              "<Figure size 640x480 with 1 Axes>"
            ],
            "image/png": "[encoded data removed]"
          },
          "metadata": {}
        }
      ]
    },
    {
      "cell_type": "markdown",
      "source": [
        "# **Cevap 18** Binding ve Average Rating  sütunlarını kullanarak Violin Plot çizin."
      ],
      "metadata": {
        "id": "-VIM4XiD2IBV"
      }
    },
    {
      "cell_type": "code",
      "source": [
        "ax=sns.violinplot(x='Binding', y='Average Rating', data=df)\n",
        "ax.set_title(\"Violin Plot of Bindind and Average Rating\")\n",
        "plt.xticks(rotation=90)"
      ],
      "metadata": {
        "colab": {
          "base_uri": "https://localhost:8080/",
          "height": 761
        },
        "id": "Vz1bqH2s1bRD",
        "outputId": "97e01084-4d04-4e37-c796-8da6b117b914"
      },
      "execution_count": 53,
      "outputs": [
        {
          "output_type": "execute_result",
          "data": {
            "text/plain": [
              "([0, 1, 2, 3, 4, 5, 6],\n",
              " [Text(0, 0, 'Paperback'),\n",
              "  Text(1, 0, 'Kindle Edition'),\n",
              "  Text(2, 0, 'ebook'),\n",
              "  Text(3, 0, 'Hardcover'),\n",
              "  Text(4, 0, 'Mass Market Paperback'),\n",
              "  Text(5, 0, 'paper'),\n",
              "  Text(6, 0, 'Spiral-bound')])"
            ]
          },
          "metadata": {},
          "execution_count": 53
        },
        {
          "output_type": "display_data",
          "data": {
            "text/plain": [
              "<Figure size 640x480 with 1 Axes>"
            ],
            "image/png": "[encoded data removed]"
          },
          "metadata": {}
        }
      ]
    },
    {
      "cell_type": "markdown",
      "source": [
        "# **Cevap 19** My Rating ve Average Rating  değerleri arasında bir scatter plot çizin.\n"
      ],
      "metadata": {
        "id": "B2-1MuHq2Xtd"
      }
    },
    {
      "cell_type": "code",
      "source": [
        "ax=sns.scatterplot(data=df, x='My Rating', y='Average Rating')\n",
        "ax.set_title(\"Scatter Plot of My Rating and Average Rating\")"
      ],
      "metadata": {
        "colab": {
          "base_uri": "https://localhost:8080/",
          "height": 489
        },
        "id": "qj9sJHMe2cvZ",
        "outputId": "25b28e67-14b0-4b0e-ed50-9b25a9547187"
      },
      "execution_count": 54,
      "outputs": [
        {
          "output_type": "execute_result",
          "data": {
            "text/plain": [
              "Text(0.5, 1.0, 'Scatter Plot of My Rating and Average Rating')"
            ]
          },
          "metadata": {},
          "execution_count": 54
        },
        {
          "output_type": "display_data",
          "data": {
            "text/plain": [
              "<Figure size 640x480 with 1 Axes>"
            ],
            "image/png": "[encoded data removed]"
          },
          "metadata": {}
        }
      ]
    },
    {
      "cell_type": "markdown",
      "source": [
        "# **Cevap 20** Kendi belirlediğiniz (değer ve türleri farketmez) iki adet grafiği hem Seaborn, hem de Matplotlib ile çizdirin."
      ],
      "metadata": {
        "id": "0rbt8pxR3Mvs"
      }
    },
    {
      "cell_type": "code",
      "source": [
        "en_sevilen_ilk5_kitap=df.sort_values(by=\"Average Rating\",ascending=True).head(5)"
      ],
      "metadata": {
        "id": "dYHrwLe82dL-"
      },
      "execution_count": 55,
      "outputs": []
    },
    {
      "cell_type": "code",
      "source": [
        "fig,ax=plt.subplots(1,2,figsize=(15,6))\n",
        "\n",
        "ax1=sns.barplot(x=\"Author\",data=en_sevilen_ilk5_kitap,y=\"Average Rating\",ax=ax[0])\n",
        "\n",
        "plt.bar(x=en_sevilen_ilk5_kitap[\"Author\"],height=en_sevilen_ilk5_kitap[\"Average Rating\"])\n",
        "\n",
        "ax1.set_xticklabels(ax1.get_xticklabels(),rotation=90)\n",
        "ax1.set_xlabel(\"Yazarlar\",size=10)\n",
        "ax1.set_ylabel(\"Ortalama Puan\",size=10)\n",
        "ax1.set_title(\"Çubuk Grafiği-Seaborn\",size=12)\n",
        "plt.title(\"Çubuk Grafiği-Matplotlib\",size=12)\n",
        "plt.xlabel(\"Yazarlar\",size=10)\n",
        "plt.ylabel(\"Ortalama Puan\",size=10)\n",
        "plt.xticks(rotation=90)"
      ],
      "metadata": {
        "id": "SjFUXJ1q2dRV",
        "colab": {
          "base_uri": "https://localhost:8080/",
          "height": 505
        },
        "outputId": "1cb92c13-ac40-4251-bd9e-37d62f5c81aa"
      },
      "execution_count": 56,
      "outputs": [
        {
          "output_type": "execute_result",
          "data": {
            "text/plain": [
              "([0, 1, 2, 3, 4],\n",
              " [Text(0, 0, 'David Hein'),\n",
              "  Text(1, 0, 'George Siedel'),\n",
              "  Text(2, 0, 'Louis Renou'),\n",
              "  Text(3, 0, 'Lance Morrow'),\n",
              "  Text(4, 0, 'Pamela Haag')])"
            ]
          },
          "metadata": {},
          "execution_count": 56
        },
        {
          "output_type": "display_data",
          "data": {
            "text/plain": [
              "<Figure size 1500x600 with 2 Axes>"
            ],
            "image/png": "[encoded data removed]"
          },
          "metadata": {}
        }
      ]
    },
    {
      "cell_type": "code",
      "source": [
        "fig,ax=plt.subplots(1,2,figsize=(15,6))\n",
        "\n",
        "ax1=sns.boxplot(y=\"Average Rating\",data=df,x=\"Bookshelves\",ax=ax[0])\n",
        "\n",
        "df.boxplot(column ='Average Rating', by =['Bookshelves'], grid = False,ax=ax[1])\n",
        "\n",
        "ax1.set_xticklabels(ax1.get_xticklabels(),rotation=90)\n",
        "plt.xticks(rotation=90)\n",
        "ax1.set_xlabel(\"Bookshelves\",size=10)\n",
        "ax1.set_ylabel(\"Ortalama Puan\",size=10)\n",
        "ax1.set_title(\"Kutu Grafiği-Seaborn\",size=12)\n",
        "plt.title(\"Kutu Grafiği-Matplotlib\",size=12)\n",
        "plt.xlabel(\"Bookshelves\",size=10)\n",
        "plt.ylabel(\"Ortalama Puan\",size=10)"
      ],
      "metadata": {
        "colab": {
          "base_uri": "https://localhost:8080/",
          "height": 428
        },
        "id": "MnsquuW8UuH0",
        "outputId": "c71ea064-7ff0-4983-e3ed-81818372b5fd"
      },
      "execution_count": 57,
      "outputs": [
        {
          "output_type": "execute_result",
          "data": {
            "text/plain": [
              "Text(0, 0.5, 'Ortalama Puan')"
            ]
          },
          "metadata": {},
          "execution_count": 57
        },
        {
          "output_type": "display_data",
          "data": {
            "text/plain": [
              "<Figure size 1500x600 with 2 Axes>"
            ],
            "image/png": "[encoded data removed]"
          },
          "metadata": {}
        }
      ]
    },
    {
      "cell_type": "markdown",
      "source": [
        "# **Cevap 21** Verinin son halini başka bir csv içine yazdırın."
      ],
      "metadata": {
        "id": "wZAzUjLI3e9r"
      }
    },
    {
      "cell_type": "code",
      "source": [
        "df.to_csv(\"VBM651-Final-Sercan-Yildirim\")"
      ],
      "metadata": {
        "id": "TdOTFK1TXicW"
      },
      "execution_count": 58,
      "outputs": []
    },
    {
      "cell_type": "code",
      "source": [
        "sy_df=pd.read_csv(\"VBM651-Final-Sercan-Yildirim\")\n",
        "sy_df.head(10)"
      ],
      "metadata": {
        "colab": {
          "base_uri": "https://localhost:8080/",
          "height": 933
        },
        "id": "MnROdUa0X4cT",
        "outputId": "606f544e-740c-4c4f-9f43-9eeef5176765"
      },
      "execution_count": 59,
      "outputs": [
        {
          "output_type": "execute_result",
          "data": {
            "text/plain": [
              "    Book Id                                              Title  \\\n",
              "0  13278990                                The Housing Monster   \n",
              "1      7805                                          Pale Fire   \n",
              "2  34220725                                   Never Use Futura   \n",
              "3  34913288  The Three Pillar Model for Business Decisions:...   \n",
              "4  11275062  Nixonland: The Rise of a President and the Fra...   \n",
              "5  27162486            The Banjo: America's African Instrument   \n",
              "6   8219235  Grounding for the Metaphysics of Morals/On a S...   \n",
              "7   1407132                                           Hinduism   \n",
              "8  29548767                             Time Travel: A History   \n",
              "9  31416132  The Complacent Class: The Self-Defeating Quest...   \n",
              "\n",
              "             Author   Author l-f Additional Authors        ISBN        ISBN13  \\\n",
              "0        prole.info  p.proleinfo                NaN  160486530X  9.780000e+12   \n",
              "1  Vladimir Nabokov    V.Nabokov                NaN   141185260  9.780000e+12   \n",
              "2       Doug Thomas     D.Thomas           E.Lupton  1616895721  9.780000e+12   \n",
              "3     George Siedel     G.Siedel                NaN           0           NaN   \n",
              "4    Rick Perlstein  R.Perlstein                NaN  1451606265  9.780000e+12   \n",
              "5    Laurent Dubois     L.Dubois                NaN   674047842  9.780000e+12   \n",
              "6     Immanuel Kant       I.Kant                NaN  1452841098  9.780000e+12   \n",
              "7       Louis Renou      L.Renou                NaN   671478710  9.780000e+12   \n",
              "8      James Gleick     J.Gleick                NaN           0           NaN   \n",
              "9       Tyler Cowen      T.Cowen                NaN           0           NaN   \n",
              "\n",
              "   My Rating  Average Rating  \\\n",
              "0          0            3.77   \n",
              "1          0            4.19   \n",
              "2          4            4.29   \n",
              "3          4            3.00   \n",
              "4          5            4.12   \n",
              "5          5            4.39   \n",
              "6          5            3.80   \n",
              "7          2            3.09   \n",
              "8          2            3.58   \n",
              "9          5            3.64   \n",
              "\n",
              "                                           Publisher  ... Recommended By  \\\n",
              "0                                           PM Press  ...            NaN   \n",
              "1                                  Penguin Books Ltd  ...            NaN   \n",
              "2                      Princeton Architectural Press  ...            NaN   \n",
              "3                            Van Rye Publishing, LLC  ...            NaN   \n",
              "4                                           Scribner  ...            NaN   \n",
              "5  Belknap Press: An Imprint of Harvard Universit...  ...            NaN   \n",
              "6                                        Createspace  ...            NaN   \n",
              "7                                       Pocket Books  ...            NaN   \n",
              "8                                           Pantheon  ...            NaN   \n",
              "9                                 St. Martin's Press  ...            NaN   \n",
              "\n",
              "   Owned Copies  Original Purchase Date  Original Purchase Location  \\\n",
              "0             0                     NaN                         NaN   \n",
              "1             0                     NaN                         NaN   \n",
              "2             0                     NaN                         NaN   \n",
              "3             0                     NaN                         NaN   \n",
              "4             0                     NaN                         NaN   \n",
              "5             0                     NaN                         NaN   \n",
              "6             0                     NaN                         NaN   \n",
              "7             0                     NaN                         NaN   \n",
              "8             0                     NaN                         NaN   \n",
              "9             0                     NaN                         NaN   \n",
              "\n",
              "   Condition  Condition Description BCID             author Quickness  \\\n",
              "0        NaN                    NaN  NaN       p.proleinfo,         0   \n",
              "1        NaN                    NaN  NaN         V.Nabokov,         0   \n",
              "2        NaN                    NaN  NaN  D.Thomas,E.Lupton         0   \n",
              "3        NaN                    NaN  NaN          G.Siedel,         0   \n",
              "4        NaN                    NaN  NaN       R.Perlstein,         0   \n",
              "5        NaN                    NaN  NaN          L.Dubois,         0   \n",
              "6        NaN                    NaN  NaN            I.Kant,         0   \n",
              "7        NaN                    NaN  NaN           L.Renou,         0   \n",
              "8        NaN                    NaN  NaN          J.Gleick,         0   \n",
              "9        NaN                    NaN  NaN           T.Cowen,         0   \n",
              "\n",
              "   BIN_Number of Pages  \n",
              "0       (150.0, 200.0]  \n",
              "1       (200.0, 250.0]  \n",
              "2       (200.0, 250.0]  \n",
              "3       (250.0, 300.0]  \n",
              "4       (850.0, 900.0]  \n",
              "5       (350.0, 400.0]  \n",
              "6        (50.0, 100.0]  \n",
              "7       (-0.001, 50.0]  \n",
              "8       (350.0, 400.0]  \n",
              "9       (250.0, 300.0]  \n",
              "\n",
              "[10 rows x 34 columns]"
            ],
            "text/html": [
              "\n",
              "  <div id=\"df-0af160f1-ca5d-49e1-952a-07a980649f04\" class=\"colab-df-container\">\n",
              "    <div>\n",
              "<style scoped>\n",
              "    .dataframe tbody tr th:only-of-type {\n",
              "        vertical-align: middle;\n",
              "    }\n",
              "\n",
              "    .dataframe tbody tr th {\n",
              "        vertical-align: top;\n",
              "    }\n",
              "\n",
              "    .dataframe thead th {\n",
              "        text-align: right;\n",
              "    }\n",
              "</style>\n",
              "<table border=\"1\" class=\"dataframe\">\n",
              "  <thead>\n",
              "    <tr style=\"text-align: right;\">\n",
              "      <th></th>\n",
              "      <th>Book Id</th>\n",
              "      <th>Title</th>\n",
              "      <th>Author</th>\n",
              "      <th>Author l-f</th>\n",
              "      <th>Additional Authors</th>\n",
              "      <th>ISBN</th>\n",
              "      <th>ISBN13</th>\n",
              "      <th>My Rating</th>\n",
              "      <th>Average Rating</th>\n",
              "      <th>Publisher</th>\n",
              "      <th>...</th>\n",
              "      <th>Recommended By</th>\n",
              "      <th>Owned Copies</th>\n",
              "      <th>Original Purchase Date</th>\n",
              "      <th>Original Purchase Location</th>\n",
              "      <th>Condition</th>\n",
              "      <th>Condition Description</th>\n",
              "      <th>BCID</th>\n",
              "      <th>author</th>\n",
              "      <th>Quickness</th>\n",
              "      <th>BIN_Number of Pages</th>\n",
              "    </tr>\n",
              "  </thead>\n",
              "  <tbody>\n",
              "    <tr>\n",
              "      <th>0</th>\n",
              "      <td>13278990</td>\n",
              "      <td>The Housing Monster</td>\n",
              "      <td>prole.info</td>\n",
              "      <td>p.proleinfo</td>\n",
              "      <td>NaN</td>\n",
              "      <td>160486530X</td>\n",
              "      <td>9.780000e+12</td>\n",
              "      <td>0</td>\n",
              "      <td>3.77</td>\n",
              "      <td>PM Press</td>\n",
              "      <td>...</td>\n",
              "      <td>NaN</td>\n",
              "      <td>0</td>\n",
              "      <td>NaN</td>\n",
              "      <td>NaN</td>\n",
              "      <td>NaN</td>\n",
              "      <td>NaN</td>\n",
              "      <td>NaN</td>\n",
              "      <td>p.proleinfo,</td>\n",
              "      <td>0</td>\n",
              "      <td>(150.0, 200.0]</td>\n",
              "    </tr>\n",
              "    <tr>\n",
              "      <th>1</th>\n",
              "      <td>7805</td>\n",
              "      <td>Pale Fire</td>\n",
              "      <td>Vladimir Nabokov</td>\n",
              "      <td>V.Nabokov</td>\n",
              "      <td>NaN</td>\n",
              "      <td>141185260</td>\n",
              "      <td>9.780000e+12</td>\n",
              "      <td>0</td>\n",
              "      <td>4.19</td>\n",
              "      <td>Penguin Books Ltd</td>\n",
              "      <td>...</td>\n",
              "      <td>NaN</td>\n",
              "      <td>0</td>\n",
              "      <td>NaN</td>\n",
              "      <td>NaN</td>\n",
              "      <td>NaN</td>\n",
              "      <td>NaN</td>\n",
              "      <td>NaN</td>\n",
              "      <td>V.Nabokov,</td>\n",
              "      <td>0</td>\n",
              "      <td>(200.0, 250.0]</td>\n",
              "    </tr>\n",
              "    <tr>\n",
              "      <th>2</th>\n",
              "      <td>34220725</td>\n",
              "      <td>Never Use Futura</td>\n",
              "      <td>Doug Thomas</td>\n",
              "      <td>D.Thomas</td>\n",
              "      <td>E.Lupton</td>\n",
              "      <td>1616895721</td>\n",
              "      <td>9.780000e+12</td>\n",
              "      <td>4</td>\n",
              "      <td>4.29</td>\n",
              "      <td>Princeton Architectural Press</td>\n",
              "      <td>...</td>\n",
              "      <td>NaN</td>\n",
              "      <td>0</td>\n",
              "      <td>NaN</td>\n",
              "      <td>NaN</td>\n",
              "      <td>NaN</td>\n",
              "      <td>NaN</td>\n",
              "      <td>NaN</td>\n",
              "      <td>D.Thomas,E.Lupton</td>\n",
              "      <td>0</td>\n",
              "      <td>(200.0, 250.0]</td>\n",
              "    </tr>\n",
              "    <tr>\n",
              "      <th>3</th>\n",
              "      <td>34913288</td>\n",
              "      <td>The Three Pillar Model for Business Decisions:...</td>\n",
              "      <td>George Siedel</td>\n",
              "      <td>G.Siedel</td>\n",
              "      <td>NaN</td>\n",
              "      <td>0</td>\n",
              "      <td>NaN</td>\n",
              "      <td>4</td>\n",
              "      <td>3.00</td>\n",
              "      <td>Van Rye Publishing, LLC</td>\n",
              "      <td>...</td>\n",
              "      <td>NaN</td>\n",
              "      <td>0</td>\n",
              "      <td>NaN</td>\n",
              "      <td>NaN</td>\n",
              "      <td>NaN</td>\n",
              "      <td>NaN</td>\n",
              "      <td>NaN</td>\n",
              "      <td>G.Siedel,</td>\n",
              "      <td>0</td>\n",
              "      <td>(250.0, 300.0]</td>\n",
              "    </tr>\n",
              "    <tr>\n",
              "      <th>4</th>\n",
              "      <td>11275062</td>\n",
              "      <td>Nixonland: The Rise of a President and the Fra...</td>\n",
              "      <td>Rick Perlstein</td>\n",
              "      <td>R.Perlstein</td>\n",
              "      <td>NaN</td>\n",
              "      <td>1451606265</td>\n",
              "      <td>9.780000e+12</td>\n",
              "      <td>5</td>\n",
              "      <td>4.12</td>\n",
              "      <td>Scribner</td>\n",
              "      <td>...</td>\n",
              "      <td>NaN</td>\n",
              "      <td>0</td>\n",
              "      <td>NaN</td>\n",
              "      <td>NaN</td>\n",
              "      <td>NaN</td>\n",
              "      <td>NaN</td>\n",
              "      <td>NaN</td>\n",
              "      <td>R.Perlstein,</td>\n",
              "      <td>0</td>\n",
              "      <td>(850.0, 900.0]</td>\n",
              "    </tr>\n",
              "    <tr>\n",
              "      <th>5</th>\n",
              "      <td>27162486</td>\n",
              "      <td>The Banjo: America's African Instrument</td>\n",
              "      <td>Laurent Dubois</td>\n",
              "      <td>L.Dubois</td>\n",
              "      <td>NaN</td>\n",
              "      <td>674047842</td>\n",
              "      <td>9.780000e+12</td>\n",
              "      <td>5</td>\n",
              "      <td>4.39</td>\n",
              "      <td>Belknap Press: An Imprint of Harvard Universit...</td>\n",
              "      <td>...</td>\n",
              "      <td>NaN</td>\n",
              "      <td>0</td>\n",
              "      <td>NaN</td>\n",
              "      <td>NaN</td>\n",
              "      <td>NaN</td>\n",
              "      <td>NaN</td>\n",
              "      <td>NaN</td>\n",
              "      <td>L.Dubois,</td>\n",
              "      <td>0</td>\n",
              "      <td>(350.0, 400.0]</td>\n",
              "    </tr>\n",
              "    <tr>\n",
              "      <th>6</th>\n",
              "      <td>8219235</td>\n",
              "      <td>Grounding for the Metaphysics of Morals/On a S...</td>\n",
              "      <td>Immanuel Kant</td>\n",
              "      <td>I.Kant</td>\n",
              "      <td>NaN</td>\n",
              "      <td>1452841098</td>\n",
              "      <td>9.780000e+12</td>\n",
              "      <td>5</td>\n",
              "      <td>3.80</td>\n",
              "      <td>Createspace</td>\n",
              "      <td>...</td>\n",
              "      <td>NaN</td>\n",
              "      <td>0</td>\n",
              "      <td>NaN</td>\n",
              "      <td>NaN</td>\n",
              "      <td>NaN</td>\n",
              "      <td>NaN</td>\n",
              "      <td>NaN</td>\n",
              "      <td>I.Kant,</td>\n",
              "      <td>0</td>\n",
              "      <td>(50.0, 100.0]</td>\n",
              "    </tr>\n",
              "    <tr>\n",
              "      <th>7</th>\n",
              "      <td>1407132</td>\n",
              "      <td>Hinduism</td>\n",
              "      <td>Louis Renou</td>\n",
              "      <td>L.Renou</td>\n",
              "      <td>NaN</td>\n",
              "      <td>671478710</td>\n",
              "      <td>9.780000e+12</td>\n",
              "      <td>2</td>\n",
              "      <td>3.09</td>\n",
              "      <td>Pocket Books</td>\n",
              "      <td>...</td>\n",
              "      <td>NaN</td>\n",
              "      <td>0</td>\n",
              "      <td>NaN</td>\n",
              "      <td>NaN</td>\n",
              "      <td>NaN</td>\n",
              "      <td>NaN</td>\n",
              "      <td>NaN</td>\n",
              "      <td>L.Renou,</td>\n",
              "      <td>0</td>\n",
              "      <td>(-0.001, 50.0]</td>\n",
              "    </tr>\n",
              "    <tr>\n",
              "      <th>8</th>\n",
              "      <td>29548767</td>\n",
              "      <td>Time Travel: A History</td>\n",
              "      <td>James Gleick</td>\n",
              "      <td>J.Gleick</td>\n",
              "      <td>NaN</td>\n",
              "      <td>0</td>\n",
              "      <td>NaN</td>\n",
              "      <td>2</td>\n",
              "      <td>3.58</td>\n",
              "      <td>Pantheon</td>\n",
              "      <td>...</td>\n",
              "      <td>NaN</td>\n",
              "      <td>0</td>\n",
              "      <td>NaN</td>\n",
              "      <td>NaN</td>\n",
              "      <td>NaN</td>\n",
              "      <td>NaN</td>\n",
              "      <td>NaN</td>\n",
              "      <td>J.Gleick,</td>\n",
              "      <td>0</td>\n",
              "      <td>(350.0, 400.0]</td>\n",
              "    </tr>\n",
              "    <tr>\n",
              "      <th>9</th>\n",
              "      <td>31416132</td>\n",
              "      <td>The Complacent Class: The Self-Defeating Quest...</td>\n",
              "      <td>Tyler Cowen</td>\n",
              "      <td>T.Cowen</td>\n",
              "      <td>NaN</td>\n",
              "      <td>0</td>\n",
              "      <td>NaN</td>\n",
              "      <td>5</td>\n",
              "      <td>3.64</td>\n",
              "      <td>St. Martin's Press</td>\n",
              "      <td>...</td>\n",
              "      <td>NaN</td>\n",
              "      <td>0</td>\n",
              "      <td>NaN</td>\n",
              "      <td>NaN</td>\n",
              "      <td>NaN</td>\n",
              "      <td>NaN</td>\n",
              "      <td>NaN</td>\n",
              "      <td>T.Cowen,</td>\n",
              "      <td>0</td>\n",
              "      <td>(250.0, 300.0]</td>\n",
              "    </tr>\n",
              "  </tbody>\n",
              "</table>\n",
              "<p>10 rows × 34 columns</p>\n",
              "</div>\n",
              "    <div class=\"colab-df-buttons\">\n",
              "\n",
              "  <div class=\"colab-df-container\">\n",
              "    <button class=\"colab-df-convert\" onclick=\"convertToInteractive('df-0af160f1-ca5d-49e1-952a-07a980649f04')\"\n",
              "            title=\"Convert this dataframe to an interactive table.\"\n",
              "            style=\"display:none;\">\n",
              "\n",
              "  <svg xmlns=\"http://www.w3.org/2000/svg\" height=\"24px\" viewBox=\"0 -960 960 960\">\n",
              "    <path d=\"M120-120v-720h720v720H120Zm60-500h600v-160H180v160Zm220 220h160v-160H400v160Zm0 220h160v-160H400v160ZM180-400h160v-160H180v160Zm440 0h160v-160H620v160ZM180-180h160v-160H180v160Zm440 0h160v-160H620v160Z\"/>\n",
              "  </svg>\n",
              "    </button>\n",
              "\n",
              "  <style>\n",
              "    .colab-df-container {\n",
              "      display:flex;\n",
              "      gap: 12px;\n",
              "    }\n",
              "\n",
              "    .colab-df-convert {\n",
              "      background-color: #E8F0FE;\n",
              "      border: none;\n",
              "      border-radius: 50%;\n",
              "      cursor: pointer;\n",
              "      display: none;\n",
              "      fill: #1967D2;\n",
              "      height: 32px;\n",
              "      padding: 0 0 0 0;\n",
              "      width: 32px;\n",
              "    }\n",
              "\n",
              "    .colab-df-convert:hover {\n",
              "      background-color: #E2EBFA;\n",
              "      box-shadow: 0px 1px 2px rgba(60, 64, 67, 0.3), 0px 1px 3px 1px rgba(60, 64, 67, 0.15);\n",
              "      fill: #174EA6;\n",
              "    }\n",
              "\n",
              "    .colab-df-buttons div {\n",
              "      margin-bottom: 4px;\n",
              "    }\n",
              "\n",
              "    [theme=dark] .colab-df-convert {\n",
              "      background-color: #3B4455;\n",
              "      fill: #D2E3FC;\n",
              "    }\n",
              "\n",
              "    [theme=dark] .colab-df-convert:hover {\n",
              "      background-color: #434B5C;\n",
              "      box-shadow: 0px 1px 3px 1px rgba(0, 0, 0, 0.15);\n",
              "      filter: drop-shadow(0px 1px 2px rgba(0, 0, 0, 0.3));\n",
              "      fill: #FFFFFF;\n",
              "    }\n",
              "  </style>\n",
              "\n",
              "    <script>\n",
              "      const buttonEl =\n",
              "        document.querySelector('#df-0af160f1-ca5d-49e1-952a-07a980649f04 button.colab-df-convert');\n",
              "      buttonEl.style.display =\n",
              "        google.colab.kernel.accessAllowed ? 'block' : 'none';\n",
              "\n",
              "      async function convertToInteractive(key) {\n",
              "        const element = document.querySelector('#df-0af160f1-ca5d-49e1-952a-07a980649f04');\n",
              "        const dataTable =\n",
              "          await google.colab.kernel.invokeFunction('convertToInteractive',\n",
              "                                                    [key], {});\n",
              "        if (!dataTable) return;\n",
              "\n",
              "        const docLinkHtml = 'Like what you see? Visit the ' +\n",
              "          '<a target=\"_blank\" href=https://colab.research.google.com/notebooks/data_table.ipynb>data table notebook</a>'\n",
              "          + ' to learn more about interactive tables.';\n",
              "        element.innerHTML = '';\n",
              "        dataTable['output_type'] = 'display_data';\n",
              "        await google.colab.output.renderOutput(dataTable, element);\n",
              "        const docLink = document.createElement('div');\n",
              "        docLink.innerHTML = docLinkHtml;\n",
              "        element.appendChild(docLink);\n",
              "      }\n",
              "    </script>\n",
              "  </div>\n",
              "\n",
              "\n",
              "<div id=\"df-3663a792-1310-4d73-883b-a6cc8551af0d\">\n",
              "  <button class=\"colab-df-quickchart\" onclick=\"quickchart('df-3663a792-1310-4d73-883b-a6cc8551af0d')\"\n",
              "            title=\"Suggest charts\"\n",
              "            style=\"display:none;\">\n",
              "\n",
              "<svg xmlns=\"http://www.w3.org/2000/svg\" height=\"24px\"viewBox=\"0 0 24 24\"\n",
              "     width=\"24px\">\n",
              "    <g>\n",
              "        <path d=\"M19 3H5c-1.1 0-2 .9-2 2v14c0 1.1.9 2 2 2h14c1.1 0 2-.9 2-2V5c0-1.1-.9-2-2-2zM9 17H7v-7h2v7zm4 0h-2V7h2v10zm4 0h-2v-4h2v4z\"/>\n",
              "    </g>\n",
              "</svg>\n",
              "  </button>\n",
              "\n",
              "<style>\n",
              "  .colab-df-quickchart {\n",
              "      --bg-color: #E8F0FE;\n",
              "      --fill-color: #1967D2;\n",
              "      --hover-bg-color: #E2EBFA;\n",
              "      --hover-fill-color: #174EA6;\n",
              "      --disabled-fill-color: #AAA;\n",
              "      --disabled-bg-color: #DDD;\n",
              "  }\n",
              "\n",
              "  [theme=dark] .colab-df-quickchart {\n",
              "      --bg-color: #3B4455;\n",
              "      --fill-color: #D2E3FC;\n",
              "      --hover-bg-color: #434B5C;\n",
              "      --hover-fill-color: #FFFFFF;\n",
              "      --disabled-bg-color: #3B4455;\n",
              "      --disabled-fill-color: #666;\n",
              "  }\n",
              "\n",
              "  .colab-df-quickchart {\n",
              "    background-color: var(--bg-color);\n",
              "    border: none;\n",
              "    border-radius: 50%;\n",
              "    cursor: pointer;\n",
              "    display: none;\n",
              "    fill: var(--fill-color);\n",
              "    height: 32px;\n",
              "    padding: 0;\n",
              "    width: 32px;\n",
              "  }\n",
              "\n",
              "  .colab-df-quickchart:hover {\n",
              "    background-color: var(--hover-bg-color);\n",
              "    box-shadow: 0 1px 2px rgba(60, 64, 67, 0.3), 0 1px 3px 1px rgba(60, 64, 67, 0.15);\n",
              "    fill: var(--button-hover-fill-color);\n",
              "  }\n",
              "\n",
              "  .colab-df-quickchart-complete:disabled,\n",
              "  .colab-df-quickchart-complete:disabled:hover {\n",
              "    background-color: var(--disabled-bg-color);\n",
              "    fill: var(--disabled-fill-color);\n",
              "    box-shadow: none;\n",
              "  }\n",
              "\n",
              "  .colab-df-spinner {\n",
              "    border: 2px solid var(--fill-color);\n",
              "    border-color: transparent;\n",
              "    border-bottom-color: var(--fill-color);\n",
              "    animation:\n",
              "      spin 1s steps(1) infinite;\n",
              "  }\n",
              "\n",
              "  @keyframes spin {\n",
              "    0% {\n",
              "      border-color: transparent;\n",
              "      border-bottom-color: var(--fill-color);\n",
              "      border-left-color: var(--fill-color);\n",
              "    }\n",
              "    20% {\n",
              "      border-color: transparent;\n",
              "      border-left-color: var(--fill-color);\n",
              "      border-top-color: var(--fill-color);\n",
              "    }\n",
              "    30% {\n",
              "      border-color: transparent;\n",
              "      border-left-color: var(--fill-color);\n",
              "      border-top-color: var(--fill-color);\n",
              "      border-right-color: var(--fill-color);\n",
              "    }\n",
              "    40% {\n",
              "      border-color: transparent;\n",
              "      border-right-color: var(--fill-color);\n",
              "      border-top-color: var(--fill-color);\n",
              "    }\n",
              "    60% {\n",
              "      border-color: transparent;\n",
              "      border-right-color: var(--fill-color);\n",
              "    }\n",
              "    80% {\n",
              "      border-color: transparent;\n",
              "      border-right-color: var(--fill-color);\n",
              "      border-bottom-color: var(--fill-color);\n",
              "    }\n",
              "    90% {\n",
              "      border-color: transparent;\n",
              "      border-bottom-color: var(--fill-color);\n",
              "    }\n",
              "  }\n",
              "</style>\n",
              "\n",
              "  <script>\n",
              "    async function quickchart(key) {\n",
              "      const quickchartButtonEl =\n",
              "        document.querySelector('#' + key + ' button');\n",
              "      quickchartButtonEl.disabled = true;  // To prevent multiple clicks.\n",
              "      quickchartButtonEl.classList.add('colab-df-spinner');\n",
              "      try {\n",
              "        const charts = await google.colab.kernel.invokeFunction(\n",
              "            'suggestCharts', [key], {});\n",
              "      } catch (error) {\n",
              "        console.error('Error during call to suggestCharts:', error);\n",
              "      }\n",
              "      quickchartButtonEl.classList.remove('colab-df-spinner');\n",
              "      quickchartButtonEl.classList.add('colab-df-quickchart-complete');\n",
              "    }\n",
              "    (() => {\n",
              "      let quickchartButtonEl =\n",
              "        document.querySelector('#df-3663a792-1310-4d73-883b-a6cc8551af0d button');\n",
              "      quickchartButtonEl.style.display =\n",
              "        google.colab.kernel.accessAllowed ? 'block' : 'none';\n",
              "    })();\n",
              "  </script>\n",
              "</div>\n",
              "\n",
              "    </div>\n",
              "  </div>\n"
            ],
            "application/vnd.google.colaboratory.intrinsic+json": {
              "type": "dataframe",
              "variable_name": "sy_df"
            }
          },
          "metadata": {},
          "execution_count": 59
        }
      ]
    }
  ],
  "metadata": {
    "kernelspec": {
      "display_name": "Python 3",
      "language": "python",
      "name": "python3"
    },
    "language_info": {
      "codemirror_mode": {
        "name": "ipython",
        "version": 3
      },
      "file_extension": ".py",
      "mimetype": "text/x-python",
      "name": "python",
      "nbconvert_exporter": "python",
      "pygments_lexer": "ipython3",
      "version": "3.7.4"
    },
    "colab": {
      "provenance": []
    }
  },
  "nbformat": 4,
  "nbformat_minor": 0
}